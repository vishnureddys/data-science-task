{
 "cells": [
  {
   "cell_type": "markdown",
   "metadata": {},
   "source": [
    "**Pidilite Data Science Internship**  \n",
    "**Problem Statement:** Predict whether a customer will purchase from the store, given data about customer’s information and past behaviour.  \n",
    "**Work By:** Vishnu S Reddy  \n",
    "**Email:** vishnusreddy007@gmail.com  \n",
    "**Number:** 9742914197"
   ]
  },
  {
   "cell_type": "code",
   "execution_count": 31,
   "metadata": {},
   "outputs": [],
   "source": [
    "# Importing the required packages\n",
    "import pandas as pd\n",
    "import numpy as np"
   ]
  },
  {
   "cell_type": "code",
   "execution_count": 32,
   "metadata": {},
   "outputs": [],
   "source": [
    "df = pd.read_csv(\"data/train.csv\")"
   ]
  },
  {
   "cell_type": "markdown",
   "metadata": {},
   "source": [
    "## Data Cleaning"
   ]
  },
  {
   "cell_type": "code",
   "execution_count": 33,
   "metadata": {},
   "outputs": [],
   "source": [
    "# Make all empty and blank spaces as NaN\n",
    "df = df.replace(r'^\\s*$', np.nan, regex=True)"
   ]
  },
  {
   "cell_type": "code",
   "execution_count": 34,
   "metadata": {},
   "outputs": [
    {
     "name": "stdout",
     "output_type": "stream",
     "text": [
      "<class 'pandas.core.frame.DataFrame'>\n",
      "RangeIndex: 150000 entries, 0 to 149999\n",
      "Data columns (total 9 columns):\n",
      " #   Column           Non-Null Count   Dtype \n",
      "---  ------           --------------   ----- \n",
      " 0   ID               150000 non-null  int64 \n",
      " 1   STATE            148158 non-null  object\n",
      " 2   AGE              150000 non-null  int64 \n",
      " 3   OCCUPATION       107223 non-null  object\n",
      " 4   INCOME_GROUP     146563 non-null  object\n",
      " 5   CUSTOMER_SINCE   150000 non-null  int64 \n",
      " 6   LOYALTY_PROGRAM  132176 non-null  object\n",
      " 7   PAST_PURCHASE    150000 non-null  int64 \n",
      " 8   PURCHASE         150000 non-null  object\n",
      "dtypes: int64(4), object(5)\n",
      "memory usage: 10.3+ MB\n"
     ]
    }
   ],
   "source": [
    "#Finding basic information about the data\n",
    "df.info()"
   ]
  },
  {
   "cell_type": "code",
   "execution_count": 35,
   "metadata": {},
   "outputs": [
    {
     "data": {
      "text/plain": [
       "ID                     0\n",
       "STATE               1842\n",
       "AGE                    0\n",
       "OCCUPATION         42777\n",
       "INCOME_GROUP        3437\n",
       "CUSTOMER_SINCE         0\n",
       "LOYALTY_PROGRAM    17824\n",
       "PAST_PURCHASE          0\n",
       "PURCHASE               0\n",
       "dtype: int64"
      ]
     },
     "execution_count": 35,
     "metadata": {},
     "output_type": "execute_result"
    }
   ],
   "source": [
    "\n",
    "# Finding the number of null values in each of the columns\n",
    "df.isnull().sum()"
   ]
  },
  {
   "cell_type": "markdown",
   "metadata": {},
   "source": [
    "We can see from the above output that all the missing values are from the columns containing categorical values i.e. STATE, OCCUPATION, INCOME_GROUP and LOYALTY_PROGRAM.  \n",
    "\n",
    "Most people whold think it would be best to drop the column because it has over 1/3rd of the data empty. But that's not entirely true. When tested with various models, it was shown that using a new category as missing proved to be better for the accuracy and F1 score. "
   ]
  },
  {
   "cell_type": "code",
   "execution_count": 36,
   "metadata": {},
   "outputs": [],
   "source": [
    "#Filling with mode for the other columns and with a new category for occupation and loyalty program. \n",
    "df['STATE'].fillna(df['STATE'].mode()[0], inplace=True)\n",
    "df['OCCUPATION'].fillna('U1', inplace=True)\n",
    "df['INCOME_GROUP'].fillna(df['INCOME_GROUP'].mode()[0], inplace=True)\n",
    "df['LOYALTY_PROGRAM'].fillna('U2', inplace=True)"
   ]
  },
  {
   "cell_type": "code",
   "execution_count": 37,
   "metadata": {},
   "outputs": [
    {
     "data": {
      "text/plain": [
       "ID                 0\n",
       "STATE              0\n",
       "AGE                0\n",
       "OCCUPATION         0\n",
       "INCOME_GROUP       0\n",
       "CUSTOMER_SINCE     0\n",
       "LOYALTY_PROGRAM    0\n",
       "PAST_PURCHASE      0\n",
       "PURCHASE           0\n",
       "dtype: int64"
      ]
     },
     "execution_count": 37,
     "metadata": {},
     "output_type": "execute_result"
    }
   ],
   "source": [
    "df.isnull().sum()"
   ]
  },
  {
   "cell_type": "markdown",
   "metadata": {},
   "source": [
    "Here, we have imputed the mode for STATE and INCOME_GROUP, but imputed new values for the OCCUPATION and the INCOME_GROUP."
   ]
  },
  {
   "cell_type": "code",
   "execution_count": 52,
   "metadata": {},
   "outputs": [
    {
     "data": {
      "text/html": [
       "<div>\n",
       "<style scoped>\n",
       "    .dataframe tbody tr th:only-of-type {\n",
       "        vertical-align: middle;\n",
       "    }\n",
       "\n",
       "    .dataframe tbody tr th {\n",
       "        vertical-align: top;\n",
       "    }\n",
       "\n",
       "    .dataframe thead th {\n",
       "        text-align: right;\n",
       "    }\n",
       "</style>\n",
       "<table border=\"1\" class=\"dataframe\">\n",
       "  <thead>\n",
       "    <tr style=\"text-align: right;\">\n",
       "      <th></th>\n",
       "      <th>ID</th>\n",
       "      <th>STATE</th>\n",
       "      <th>AGE</th>\n",
       "      <th>OCCUPATION</th>\n",
       "      <th>INCOME_GROUP</th>\n",
       "      <th>CUSTOMER_SINCE</th>\n",
       "      <th>LOYALTY_PROGRAM</th>\n",
       "      <th>PAST_PURCHASE</th>\n",
       "      <th>PURCHASE</th>\n",
       "    </tr>\n",
       "  </thead>\n",
       "  <tbody>\n",
       "    <tr>\n",
       "      <th>0</th>\n",
       "      <td>1</td>\n",
       "      <td>Uttar Pradesh</td>\n",
       "      <td>28</td>\n",
       "      <td>U1</td>\n",
       "      <td>Low</td>\n",
       "      <td>2018</td>\n",
       "      <td>No</td>\n",
       "      <td>4937</td>\n",
       "      <td>No</td>\n",
       "    </tr>\n",
       "    <tr>\n",
       "      <th>1</th>\n",
       "      <td>2</td>\n",
       "      <td>Madhya Pradesh</td>\n",
       "      <td>27</td>\n",
       "      <td>Salaried</td>\n",
       "      <td>Low</td>\n",
       "      <td>2018</td>\n",
       "      <td>No</td>\n",
       "      <td>10834</td>\n",
       "      <td>No</td>\n",
       "    </tr>\n",
       "    <tr>\n",
       "      <th>2</th>\n",
       "      <td>3</td>\n",
       "      <td>West Bengal</td>\n",
       "      <td>62</td>\n",
       "      <td>U1</td>\n",
       "      <td>High</td>\n",
       "      <td>2013</td>\n",
       "      <td>U2</td>\n",
       "      <td>8610</td>\n",
       "      <td>Yes</td>\n",
       "    </tr>\n",
       "    <tr>\n",
       "      <th>3</th>\n",
       "      <td>4</td>\n",
       "      <td>Tamil Nadu</td>\n",
       "      <td>27</td>\n",
       "      <td>Salaried</td>\n",
       "      <td>Low</td>\n",
       "      <td>2018</td>\n",
       "      <td>No</td>\n",
       "      <td>14374</td>\n",
       "      <td>Yes</td>\n",
       "    </tr>\n",
       "    <tr>\n",
       "      <th>4</th>\n",
       "      <td>5</td>\n",
       "      <td>Uttar Pradesh</td>\n",
       "      <td>40</td>\n",
       "      <td>Self employed</td>\n",
       "      <td>High</td>\n",
       "      <td>2015</td>\n",
       "      <td>No</td>\n",
       "      <td>13158</td>\n",
       "      <td>No</td>\n",
       "    </tr>\n",
       "  </tbody>\n",
       "</table>\n",
       "</div>"
      ],
      "text/plain": [
       "   ID           STATE  AGE     OCCUPATION INCOME_GROUP  CUSTOMER_SINCE  \\\n",
       "0   1   Uttar Pradesh   28             U1          Low            2018   \n",
       "1   2  Madhya Pradesh   27       Salaried          Low            2018   \n",
       "2   3     West Bengal   62             U1         High            2013   \n",
       "3   4      Tamil Nadu   27       Salaried          Low            2018   \n",
       "4   5   Uttar Pradesh   40  Self employed         High            2015   \n",
       "\n",
       "  LOYALTY_PROGRAM  PAST_PURCHASE PURCHASE  \n",
       "0              No           4937       No  \n",
       "1              No          10834       No  \n",
       "2              U2           8610      Yes  \n",
       "3              No          14374      Yes  \n",
       "4              No          13158       No  "
      ]
     },
     "execution_count": 52,
     "metadata": {},
     "output_type": "execute_result"
    }
   ],
   "source": [
    "# Taking a look at the data\n",
    "df.head()"
   ]
  },
  {
   "cell_type": "markdown",
   "metadata": {},
   "source": [
    "We don't need the ID column because it would make no sense to use it in a model. So let's drop it. "
   ]
  },
  {
   "cell_type": "code",
   "execution_count": 38,
   "metadata": {},
   "outputs": [],
   "source": [
    "df = df.drop('ID', axis = 1)"
   ]
  },
  {
   "cell_type": "code",
   "execution_count": 39,
   "metadata": {},
   "outputs": [
    {
     "data": {
      "text/html": [
       "<div>\n",
       "<style scoped>\n",
       "    .dataframe tbody tr th:only-of-type {\n",
       "        vertical-align: middle;\n",
       "    }\n",
       "\n",
       "    .dataframe tbody tr th {\n",
       "        vertical-align: top;\n",
       "    }\n",
       "\n",
       "    .dataframe thead th {\n",
       "        text-align: right;\n",
       "    }\n",
       "</style>\n",
       "<table border=\"1\" class=\"dataframe\">\n",
       "  <thead>\n",
       "    <tr style=\"text-align: right;\">\n",
       "      <th></th>\n",
       "      <th>STATE</th>\n",
       "      <th>AGE</th>\n",
       "      <th>OCCUPATION</th>\n",
       "      <th>INCOME_GROUP</th>\n",
       "      <th>CUSTOMER_SINCE</th>\n",
       "      <th>LOYALTY_PROGRAM</th>\n",
       "      <th>PAST_PURCHASE</th>\n",
       "      <th>PURCHASE</th>\n",
       "    </tr>\n",
       "  </thead>\n",
       "  <tbody>\n",
       "    <tr>\n",
       "      <th>0</th>\n",
       "      <td>Uttar Pradesh</td>\n",
       "      <td>28</td>\n",
       "      <td>U1</td>\n",
       "      <td>Low</td>\n",
       "      <td>2018</td>\n",
       "      <td>No</td>\n",
       "      <td>4937</td>\n",
       "      <td>No</td>\n",
       "    </tr>\n",
       "    <tr>\n",
       "      <th>1</th>\n",
       "      <td>Madhya Pradesh</td>\n",
       "      <td>27</td>\n",
       "      <td>Salaried</td>\n",
       "      <td>Low</td>\n",
       "      <td>2018</td>\n",
       "      <td>No</td>\n",
       "      <td>10834</td>\n",
       "      <td>No</td>\n",
       "    </tr>\n",
       "    <tr>\n",
       "      <th>2</th>\n",
       "      <td>West Bengal</td>\n",
       "      <td>62</td>\n",
       "      <td>U1</td>\n",
       "      <td>High</td>\n",
       "      <td>2013</td>\n",
       "      <td>U2</td>\n",
       "      <td>8610</td>\n",
       "      <td>Yes</td>\n",
       "    </tr>\n",
       "    <tr>\n",
       "      <th>3</th>\n",
       "      <td>Tamil Nadu</td>\n",
       "      <td>27</td>\n",
       "      <td>Salaried</td>\n",
       "      <td>Low</td>\n",
       "      <td>2018</td>\n",
       "      <td>No</td>\n",
       "      <td>14374</td>\n",
       "      <td>Yes</td>\n",
       "    </tr>\n",
       "    <tr>\n",
       "      <th>4</th>\n",
       "      <td>Uttar Pradesh</td>\n",
       "      <td>40</td>\n",
       "      <td>Self employed</td>\n",
       "      <td>High</td>\n",
       "      <td>2015</td>\n",
       "      <td>No</td>\n",
       "      <td>13158</td>\n",
       "      <td>No</td>\n",
       "    </tr>\n",
       "  </tbody>\n",
       "</table>\n",
       "</div>"
      ],
      "text/plain": [
       "            STATE  AGE     OCCUPATION INCOME_GROUP  CUSTOMER_SINCE  \\\n",
       "0   Uttar Pradesh   28             U1          Low            2018   \n",
       "1  Madhya Pradesh   27       Salaried          Low            2018   \n",
       "2     West Bengal   62             U1         High            2013   \n",
       "3      Tamil Nadu   27       Salaried          Low            2018   \n",
       "4   Uttar Pradesh   40  Self employed         High            2015   \n",
       "\n",
       "  LOYALTY_PROGRAM  PAST_PURCHASE PURCHASE  \n",
       "0              No           4937       No  \n",
       "1              No          10834       No  \n",
       "2              U2           8610      Yes  \n",
       "3              No          14374      Yes  \n",
       "4              No          13158       No  "
      ]
     },
     "execution_count": 39,
     "metadata": {},
     "output_type": "execute_result"
    }
   ],
   "source": [
    "df.head()"
   ]
  },
  {
   "cell_type": "markdown",
   "metadata": {},
   "source": [
    "### Removing the Outliers"
   ]
  },
  {
   "cell_type": "code",
   "execution_count": 40,
   "metadata": {},
   "outputs": [
    {
     "data": {
      "text/html": [
       "<div>\n",
       "<style scoped>\n",
       "    .dataframe tbody tr th:only-of-type {\n",
       "        vertical-align: middle;\n",
       "    }\n",
       "\n",
       "    .dataframe tbody tr th {\n",
       "        vertical-align: top;\n",
       "    }\n",
       "\n",
       "    .dataframe thead th {\n",
       "        text-align: right;\n",
       "    }\n",
       "</style>\n",
       "<table border=\"1\" class=\"dataframe\">\n",
       "  <thead>\n",
       "    <tr style=\"text-align: right;\">\n",
       "      <th></th>\n",
       "      <th>AGE</th>\n",
       "      <th>CUSTOMER_SINCE</th>\n",
       "      <th>PAST_PURCHASE</th>\n",
       "    </tr>\n",
       "  </thead>\n",
       "  <tbody>\n",
       "    <tr>\n",
       "      <th>count</th>\n",
       "      <td>150000.000000</td>\n",
       "      <td>150000.000000</td>\n",
       "      <td>150000.000000</td>\n",
       "    </tr>\n",
       "    <tr>\n",
       "      <th>mean</th>\n",
       "      <td>43.805660</td>\n",
       "      <td>2015.507960</td>\n",
       "      <td>11244.207287</td>\n",
       "    </tr>\n",
       "    <tr>\n",
       "      <th>std</th>\n",
       "      <td>14.828219</td>\n",
       "      <td>2.685645</td>\n",
       "      <td>8458.166886</td>\n",
       "    </tr>\n",
       "    <tr>\n",
       "      <th>min</th>\n",
       "      <td>23.000000</td>\n",
       "      <td>2008.000000</td>\n",
       "      <td>208.000000</td>\n",
       "    </tr>\n",
       "    <tr>\n",
       "      <th>25%</th>\n",
       "      <td>30.000000</td>\n",
       "      <td>2013.000000</td>\n",
       "      <td>6034.750000</td>\n",
       "    </tr>\n",
       "    <tr>\n",
       "      <th>50%</th>\n",
       "      <td>43.000000</td>\n",
       "      <td>2017.000000</td>\n",
       "      <td>8926.000000</td>\n",
       "    </tr>\n",
       "    <tr>\n",
       "      <th>75%</th>\n",
       "      <td>54.000000</td>\n",
       "      <td>2018.000000</td>\n",
       "      <td>13636.000000</td>\n",
       "    </tr>\n",
       "    <tr>\n",
       "      <th>max</th>\n",
       "      <td>85.000000</td>\n",
       "      <td>2019.000000</td>\n",
       "      <td>103520.000000</td>\n",
       "    </tr>\n",
       "  </tbody>\n",
       "</table>\n",
       "</div>"
      ],
      "text/plain": [
       "                 AGE  CUSTOMER_SINCE  PAST_PURCHASE\n",
       "count  150000.000000   150000.000000  150000.000000\n",
       "mean       43.805660     2015.507960   11244.207287\n",
       "std        14.828219        2.685645    8458.166886\n",
       "min        23.000000     2008.000000     208.000000\n",
       "25%        30.000000     2013.000000    6034.750000\n",
       "50%        43.000000     2017.000000    8926.000000\n",
       "75%        54.000000     2018.000000   13636.000000\n",
       "max        85.000000     2019.000000  103520.000000"
      ]
     },
     "execution_count": 40,
     "metadata": {},
     "output_type": "execute_result"
    }
   ],
   "source": [
    "df.describe()"
   ]
  },
  {
   "cell_type": "code",
   "execution_count": 41,
   "metadata": {},
   "outputs": [],
   "source": [
    "# Importing the library for this task\n",
    "import seaborn as sns"
   ]
  },
  {
   "cell_type": "code",
   "execution_count": 57,
   "metadata": {},
   "outputs": [
    {
     "data": {
      "text/plain": [
       "<AxesSubplot:xlabel='PAST_PURCHASE'>"
      ]
     },
     "execution_count": 57,
     "metadata": {},
     "output_type": "execute_result"
    },
    {
     "data": {
      "image/png": "[encoded data removed]",
      "text/plain": [
       "<Figure size 432x288 with 1 Axes>"
      ]
     },
     "metadata": {
      "needs_background": "light"
     },
     "output_type": "display_data"
    }
   ],
   "source": [
    "sns.boxplot(data=df,x=df['PAST_PURCHASE'])"
   ]
  },
  {
   "cell_type": "markdown",
   "metadata": {},
   "source": [
    "We can see that this column has a lot of outliers. While the other numerical columns don't have them. Now let's remove the outliers from the dataset so that it makes sense to draw conclusions and build models on it. "
   ]
  },
  {
   "cell_type": "code",
   "execution_count": 42,
   "metadata": {},
   "outputs": [],
   "source": [
    "# Importing the library to perform this\n",
    "from scipy import stats\n",
    "\n",
    "# Removing the outliers based on the z score value meaning all data has to be less than 3 standard deviations. \n",
    "df = df[(np.abs(stats.zscore(df['PAST_PURCHASE'])) < 3)]"
   ]
  },
  {
   "cell_type": "code",
   "execution_count": 12,
   "metadata": {},
   "outputs": [
    {
     "data": {
      "text/plain": [
       "<AxesSubplot:xlabel='PAST_PURCHASE'>"
      ]
     },
     "execution_count": 12,
     "metadata": {},
     "output_type": "execute_result"
    },
    {
     "data": {
      "image/png": "[encoded data removed]",
      "text/plain": [
       "<Figure size 432x288 with 1 Axes>"
      ]
     },
     "metadata": {
      "needs_background": "light"
     },
     "output_type": "display_data"
    }
   ],
   "source": [
    "sns.boxplot(data=df,x=df['PAST_PURCHASE'])"
   ]
  },
  {
   "cell_type": "markdown",
   "metadata": {},
   "source": [
    "We can now see that the data still has outliers, but it much more ideal to work on that before. "
   ]
  },
  {
   "cell_type": "code",
   "execution_count": 13,
   "metadata": {},
   "outputs": [
    {
     "data": {
      "text/html": [
       "<div>\n",
       "<style scoped>\n",
       "    .dataframe tbody tr th:only-of-type {\n",
       "        vertical-align: middle;\n",
       "    }\n",
       "\n",
       "    .dataframe tbody tr th {\n",
       "        vertical-align: top;\n",
       "    }\n",
       "\n",
       "    .dataframe thead th {\n",
       "        text-align: right;\n",
       "    }\n",
       "</style>\n",
       "<table border=\"1\" class=\"dataframe\">\n",
       "  <thead>\n",
       "    <tr style=\"text-align: right;\">\n",
       "      <th></th>\n",
       "      <th>AGE</th>\n",
       "      <th>CUSTOMER_SINCE</th>\n",
       "      <th>PAST_PURCHASE</th>\n",
       "    </tr>\n",
       "  </thead>\n",
       "  <tbody>\n",
       "    <tr>\n",
       "      <th>count</th>\n",
       "      <td>147016.000000</td>\n",
       "      <td>147016.000000</td>\n",
       "      <td>147016.000000</td>\n",
       "    </tr>\n",
       "    <tr>\n",
       "      <th>mean</th>\n",
       "      <td>43.722608</td>\n",
       "      <td>2015.527147</td>\n",
       "      <td>10470.208678</td>\n",
       "    </tr>\n",
       "    <tr>\n",
       "      <th>std</th>\n",
       "      <td>14.790993</td>\n",
       "      <td>2.675599</td>\n",
       "      <td>6292.265006</td>\n",
       "    </tr>\n",
       "    <tr>\n",
       "      <th>min</th>\n",
       "      <td>23.000000</td>\n",
       "      <td>2008.000000</td>\n",
       "      <td>208.000000</td>\n",
       "    </tr>\n",
       "    <tr>\n",
       "      <th>25%</th>\n",
       "      <td>30.000000</td>\n",
       "      <td>2013.000000</td>\n",
       "      <td>5982.000000</td>\n",
       "    </tr>\n",
       "    <tr>\n",
       "      <th>50%</th>\n",
       "      <td>43.000000</td>\n",
       "      <td>2017.000000</td>\n",
       "      <td>8790.000000</td>\n",
       "    </tr>\n",
       "    <tr>\n",
       "      <th>75%</th>\n",
       "      <td>54.000000</td>\n",
       "      <td>2018.000000</td>\n",
       "      <td>13227.250000</td>\n",
       "    </tr>\n",
       "    <tr>\n",
       "      <th>max</th>\n",
       "      <td>85.000000</td>\n",
       "      <td>2019.000000</td>\n",
       "      <td>36618.000000</td>\n",
       "    </tr>\n",
       "  </tbody>\n",
       "</table>\n",
       "</div>"
      ],
      "text/plain": [
       "                 AGE  CUSTOMER_SINCE  PAST_PURCHASE\n",
       "count  147016.000000   147016.000000  147016.000000\n",
       "mean       43.722608     2015.527147   10470.208678\n",
       "std        14.790993        2.675599    6292.265006\n",
       "min        23.000000     2008.000000     208.000000\n",
       "25%        30.000000     2013.000000    5982.000000\n",
       "50%        43.000000     2017.000000    8790.000000\n",
       "75%        54.000000     2018.000000   13227.250000\n",
       "max        85.000000     2019.000000   36618.000000"
      ]
     },
     "execution_count": 13,
     "metadata": {},
     "output_type": "execute_result"
    }
   ],
   "source": [
    "df.describe()"
   ]
  },
  {
   "cell_type": "markdown",
   "metadata": {},
   "source": [
    "Now that we are done cleaning the data, let's proceed to gather some insights from it. "
   ]
  },
  {
   "cell_type": "markdown",
   "metadata": {},
   "source": [
    "## Exploratory Data Analysis"
   ]
  },
  {
   "cell_type": "code",
   "execution_count": 14,
   "metadata": {},
   "outputs": [],
   "source": [
    "# Importing the libraries needed to plot graphs on this data\n",
    "import matplotlib.pyplot as plt\n",
    "# We have already imported sns for the task above"
   ]
  },
  {
   "cell_type": "markdown",
   "metadata": {},
   "source": [
    "#### Identifying which states we get most of our orders from. "
   ]
  },
  {
   "cell_type": "code",
   "execution_count": 62,
   "metadata": {},
   "outputs": [
    {
     "data": {
      "image/png": "[encoded data removed]",
      "text/plain": [
       "<Figure size 1080x720 with 1 Axes>"
      ]
     },
     "metadata": {
      "needs_background": "light"
     },
     "output_type": "display_data"
    }
   ],
   "source": [
    "plt.figure(figsize=(15,10))\n",
    "plot = sns.histplot(binwidth=0.5, x=\"STATE\", hue=\"PURCHASE\", data=df, stat=\"count\", multiple=\"stack\")\n",
    "plt.setp(plot.get_xticklabels(), rotation=90)\n",
    "plt.tight_layout()\n",
    "plt.show()"
   ]
  },
  {
   "cell_type": "markdown",
   "metadata": {},
   "source": [
    "As we can see in the above graph, most of the customers are from Maharashtra, Tamil Nadu, Uttar Pradesh and Karnataka. We can also see that Maharashtra has the highest number of customers who will purchase the product when approached by the store."
   ]
  },
  {
   "cell_type": "markdown",
   "metadata": {},
   "source": [
    "The cost of acquiring new customers is multi fold the cost of pitching a product to an existing customer. This means that it is best for the company to pitch to customers in Maharashtra, Tamil Nadu, Uttar Pradesh and Karnataka. "
   ]
  },
  {
   "cell_type": "markdown",
   "metadata": {},
   "source": [
    "#### Analyzing the Customer Income Group. "
   ]
  },
  {
   "cell_type": "code",
   "execution_count": 63,
   "metadata": {},
   "outputs": [
    {
     "data": {
      "image/png": "[encoded data removed]",
      "text/plain": [
       "<Figure size 1080x720 with 1 Axes>"
      ]
     },
     "metadata": {
      "needs_background": "light"
     },
     "output_type": "display_data"
    }
   ],
   "source": [
    "plt.figure(figsize=(15,10))\n",
    "plot = sns.histplot(binwidth=0.5, x=\"INCOME_GROUP\", hue=\"PURCHASE\", data=df, stat=\"count\", multiple=\"stack\")\n",
    "plt.setp(plot.get_xticklabels(), rotation=90)\n",
    "plt.tight_layout()\n",
    "plt.show()"
   ]
  },
  {
   "cell_type": "markdown",
   "metadata": {},
   "source": [
    "We can see from the above plot that the customers from High income group are the ones who are more likely to buy than those from Medium and Low income group."
   ]
  },
  {
   "cell_type": "markdown",
   "metadata": {},
   "source": [
    "What this means is that it would make much more sense for us to pitch our products to people from high and medium income group than to those from low income group keeping the numer of pitches fixed. "
   ]
  },
  {
   "cell_type": "markdown",
   "metadata": {},
   "source": [
    "#### Checking how customers from different occupations react to the product pitch. "
   ]
  },
  {
   "cell_type": "code",
   "execution_count": 64,
   "metadata": {},
   "outputs": [
    {
     "data": {
      "image/png": "[encoded data removed]",
      "text/plain": [
       "<Figure size 1080x720 with 1 Axes>"
      ]
     },
     "metadata": {
      "needs_background": "light"
     },
     "output_type": "display_data"
    }
   ],
   "source": [
    "plt.figure(figsize=(15,10))\n",
    "plot = sns.histplot(binwidth=0.5, x=\"OCCUPATION\", hue=\"PURCHASE\", data=df, stat=\"count\", multiple=\"stack\")\n",
    "plt.setp(plot.get_xticklabels(), rotation=90)\n",
    "plt.tight_layout()\n",
    "plt.show()"
   ]
  },
  {
   "cell_type": "code",
   "execution_count": 65,
   "metadata": {},
   "outputs": [
    {
     "data": {
      "image/png": "[encoded data removed]",
      "text/plain": [
       "<Figure size 1080x720 with 1 Axes>"
      ]
     },
     "metadata": {
      "needs_background": "light"
     },
     "output_type": "display_data"
    }
   ],
   "source": [
    "plt.figure(figsize=(15,10))\n",
    "plot = sns.histplot(binwidth=0.5, x=\"OCCUPATION\", hue=\"INCOME_GROUP\", data=df, stat=\"count\", multiple=\"stack\")\n",
    "plt.setp(plot.get_xticklabels(), rotation=90)\n",
    "plt.tight_layout()\n",
    "plt.show()"
   ]
  },
  {
   "cell_type": "markdown",
   "metadata": {},
   "source": [
    "From the graphs shown above, it shows that people involved in business are more likely to buy our product even though they are of a much lesser number. We can see that people from the salaried class are majorly in the lower income group. But, we had seen in a earlier graph that people in the lower income group are not very likely to but the product.  \n",
    "\n",
    "So what we understand from this is that we have to target people who are self employed, business men and women and those who have not mentioned their occupation because majority of them are not in the low income group.  \n",
    "\n",
    "We could think those values are missing because the customers didn't like to disclose their professsion, or they were unemployed, they work in the inorganized sector, and so on. But it would not make sense to impute those cutomers into any other class because the distribution is very different. "
   ]
  },
  {
   "cell_type": "markdown",
   "metadata": {},
   "source": [
    "#### Checking if past purchase has an impact on buying a product."
   ]
  },
  {
   "cell_type": "code",
   "execution_count": 66,
   "metadata": {},
   "outputs": [
    {
     "data": {
      "text/plain": [
       "<AxesSubplot:xlabel='PURCHASE', ylabel='PAST_PURCHASE'>"
      ]
     },
     "execution_count": 66,
     "metadata": {},
     "output_type": "execute_result"
    },
    {
     "data": {
      "image/png": "[encoded data removed]",
      "text/plain": [
       "<Figure size 1080x720 with 1 Axes>"
      ]
     },
     "metadata": {
      "needs_background": "light"
     },
     "output_type": "display_data"
    }
   ],
   "source": [
    "plt.figure(figsize=(15,10))\n",
    "\n",
    "sns.boxplot(x='PURCHASE', y='PAST_PURCHASE', data=df)"
   ]
  },
  {
   "cell_type": "markdown",
   "metadata": {},
   "source": [
    "We can see that customers who have spent more previously are more likely to say yes to a product the next time the store approaches them. So it would make sense for the store to aproach customers who have spent the highest first."
   ]
  },
  {
   "cell_type": "markdown",
   "metadata": {},
   "source": [
    "#### Checking if members of loyalty program are likely to buy again. "
   ]
  },
  {
   "cell_type": "code",
   "execution_count": 67,
   "metadata": {},
   "outputs": [
    {
     "data": {
      "image/png": "[encoded data removed]",
      "text/plain": [
       "<Figure size 1080x720 with 1 Axes>"
      ]
     },
     "metadata": {
      "needs_background": "light"
     },
     "output_type": "display_data"
    }
   ],
   "source": [
    "plt.figure(figsize=(15,10))\n",
    "plot = sns.histplot(binwidth=0.5, x=\"LOYALTY_PROGRAM\", hue=\"PURCHASE\", data=df, stat=\"count\", multiple=\"stack\")\n",
    "plt.setp(plot.get_xticklabels(), rotation=90)\n",
    "plt.tight_layout()\n",
    "plt.show()"
   ]
  },
  {
   "cell_type": "markdown",
   "metadata": {},
   "source": [
    "Here, I have considered that customers who have a missing entry in the list are not members of the loyaty program because the distribution between them and the other groups are very different. While practivally it is either yes or no, the prediction model would perform better when we introduce another class. "
   ]
  },
  {
   "cell_type": "markdown",
   "metadata": {},
   "source": [
    "Though, when we look at the graph above, it looks like those members are part of the loyalty program. "
   ]
  },
  {
   "cell_type": "markdown",
   "metadata": {},
   "source": [
    "#### Checking if the year of first purchase impacts the purchase. "
   ]
  },
  {
   "cell_type": "code",
   "execution_count": 68,
   "metadata": {},
   "outputs": [
    {
     "data": {
      "image/png": "[encoded data removed]",
      "text/plain": [
       "<Figure size 1080x720 with 1 Axes>"
      ]
     },
     "metadata": {
      "needs_background": "light"
     },
     "output_type": "display_data"
    }
   ],
   "source": [
    "plt.figure(figsize=(15,10))\n",
    "plot = sns.histplot( x=\"CUSTOMER_SINCE\", hue=\"PURCHASE\", data=df, stat=\"count\", multiple=\"stack\")\n"
   ]
  },
  {
   "cell_type": "markdown",
   "metadata": {},
   "source": [
    "From the above graph, we can see that the company has had an exponential rise from the year 2017. This could either because we don't have all the proir data or that the company has actually grown that way. "
   ]
  },
  {
   "cell_type": "markdown",
   "metadata": {},
   "source": [
    "While the number of customers has increased and the number of customers who would purchase when approached by the company has increased, the percentage has been constantly low. This means that the company has to improve the way that they would market their approach towards the customer."
   ]
  },
  {
   "cell_type": "markdown",
   "metadata": {},
   "source": [
    "Based on all the above graphs, we can see that all these features are an importnat part to help the company make decisions whether the customer will buy the product or not. "
   ]
  },
  {
   "cell_type": "markdown",
   "metadata": {},
   "source": [
    "## Predictive Model Building"
   ]
  },
  {
   "cell_type": "code",
   "execution_count": 43,
   "metadata": {},
   "outputs": [],
   "source": [
    "\n",
    "# Importing all the requisite classifiers\n",
    "from xgboost import XGBClassifier\n",
    "from catboost import CatBoostClassifier as CBC\n",
    "from lightgbm import LGBMClassifier\n",
    "from sklearn.metrics import accuracy_score\n",
    "from sklearn.linear_model import LogisticRegression as LR\n",
    "from sklearn.ensemble import RandomForestClassifier as RFC\n",
    "from sklearn.linear_model import Perceptron as PPT\n",
    "from sklearn.tree import DecisionTreeClassifier as DTF\n",
    "from sklearn.neighbors import KNeighborsClassifier as KNN\n",
    "from sklearn.svm import SVC\n",
    "from sklearn.naive_bayes import GaussianNB as NB\n",
    "\n",
    "# Importing the metrics \n",
    "from sklearn.metrics import roc_curve,roc_auc_score\n",
    "from sklearn.metrics import confusion_matrix\n",
    "from sklearn.metrics import accuracy_score\n",
    "from sklearn.metrics import f1_score\n",
    "\n",
    "# Preprocessing\n",
    "from sklearn import preprocessing\n",
    "from sklearn.preprocessing import StandardScaler\n",
    "from sklearn.model_selection import train_test_split"
   ]
  },
  {
   "cell_type": "code",
   "execution_count": 16,
   "metadata": {},
   "outputs": [
    {
     "name": "stdout",
     "output_type": "stream",
     "text": [
      "<class 'pandas.core.frame.DataFrame'>\n",
      "Int64Index: 147016 entries, 0 to 149999\n",
      "Data columns (total 8 columns):\n",
      " #   Column           Non-Null Count   Dtype \n",
      "---  ------           --------------   ----- \n",
      " 0   STATE            147016 non-null  object\n",
      " 1   AGE              147016 non-null  int64 \n",
      " 2   OCCUPATION       147016 non-null  object\n",
      " 3   INCOME_GROUP     147016 non-null  object\n",
      " 4   CUSTOMER_SINCE   147016 non-null  int64 \n",
      " 5   LOYALTY_PROGRAM  147016 non-null  object\n",
      " 6   PAST_PURCHASE    147016 non-null  int64 \n",
      " 7   PURCHASE         147016 non-null  object\n",
      "dtypes: int64(3), object(5)\n",
      "memory usage: 10.1+ MB\n"
     ]
    }
   ],
   "source": [
    "# Checking the data once again\n",
    "df.info()"
   ]
  },
  {
   "cell_type": "markdown",
   "metadata": {},
   "source": [
    "We can see that we have handled all the NaN values, removed the outliers and removed the ID column because they have have no real significance to this decision. "
   ]
  },
  {
   "cell_type": "code",
   "execution_count": 44,
   "metadata": {},
   "outputs": [],
   "source": [
    "# We will encode the PURCHASE column as 0 or 1. \n",
    "df['PURCHASE'] = df['PURCHASE'].map({'Yes': 1, 'No': 0})"
   ]
  },
  {
   "cell_type": "code",
   "execution_count": 72,
   "metadata": {},
   "outputs": [],
   "source": [
    "# This function encodes all the categorical columns, which are hashable and comparable, with a value between 0 and n_classes-1\n",
    "def FeatureEncoding(X_train,X_test):\n",
    "    # The include parameter of describe is used to select features of a particular dtype. Here, categorical features are chosen\n",
    "    categorical=X_train.describe(include='O').columns\n",
    "    for feature in categorical:\n",
    "        print('Encoding feature:',feature)\n",
    "        le = preprocessing.LabelEncoder()\n",
    "        # The dataset has already been split into training and testing datasets and they are both encoded. Encoding is done\n",
    "        # separately so that there is no bias in the testing dataset that has passed on over from the training dataset.\n",
    "        X_train[feature] = le.fit_transform(X_train[feature])\n",
    "        X_test[feature] = le.transform(X_test[feature])\n",
    "    return (X_train,X_test)"
   ]
  },
  {
   "cell_type": "code",
   "execution_count": 73,
   "metadata": {},
   "outputs": [],
   "source": [
    "# This function scales and standardises all the features to a distribution with zero mean and unit standard deviation.\n",
    "# In other words, features are standardized by removing their mean and scaling them to unit variance.\n",
    "# z=(x-u)/s\n",
    "def StandardScaling(X_train,X_test):\n",
    "    scaler = StandardScaler()\n",
    "    # Centering and scaling happen independently on each feature, and the relevant statistics are stored in the internal state\n",
    "    # of the scaler for future use. They are called upon by using the transform feature\n",
    "    \n",
    "    # fit_transform computes the mean and standard deviation of the dataset, and then transform the features of the same dataset\n",
    "    X_train = pd.DataFrame(scaler.fit_transform(X_train), columns = X.columns)\n",
    "    # The testing dataset is scaled according to the same statistics as those of the training dataset. This is because we want\n",
    "    # the positions of the unlabelled test samples relative to our train dataset\n",
    "    X_test = pd.DataFrame(scaler.transform(X_test), columns = X.columns)\n",
    "    return (X_train, X_test)"
   ]
  },
  {
   "cell_type": "code",
   "execution_count": 74,
   "metadata": {},
   "outputs": [],
   "source": [
    "def fit_and_predict(model,X_train,y_train,X_test,y_test):\n",
    "    # For each model,\n",
    "    #Fit the model to the training dataset\n",
    "    model.fit(X_train,y_train)\n",
    "    #Once fitted, apply the model to the test dataset and draw up predictions\n",
    "    Y_prediction=model.predict(X_test)\n",
    "    # Record the probability estimates of the classes(this is a binary class problem). Visually, it is the probability that\n",
    "    # prediction lies on either side of the hyperplane\n",
    "    Y_probs=model.predict_proba(X_test)\n",
    "    #Discard the probability of class 0 since one leads to another by subtraction from 1\n",
    "    Y_probs = Y_probs[:, 1]\n",
    "    \n",
    "        #Plot ROC and compute AUC score\n",
    "    fpr,tpr,_=roc_curve(y_test,Y_probs)\n",
    "    auc=roc_auc_score(y_test,Y_probs)\n",
    "    \n",
    "    ftpr.append((fpr,tpr,auc))\n",
    "        #Record training and testing accuracies\n",
    "    train_accuracy.append(model.score(X_train,y_train))\n",
    "    test_accuracy.append(accuracy_score(y_test,Y_prediction))\n",
    "    fscore.append(f1_score(y_test, Y_prediction))"
   ]
  },
  {
   "cell_type": "code",
   "execution_count": 75,
   "metadata": {},
   "outputs": [],
   "source": [
    "def Classification(X_train,y_train,X_test,y_test):\n",
    "    models=[]\n",
    "    models.append(RFC(n_estimators=100))\n",
    "    models.append(LR(max_iter=10000))\n",
    "    models.append(KNN(n_neighbors=3))\n",
    "    models.append(NB())\n",
    "    models.append(SVC(kernel=\"linear\",probability=True))\n",
    "    models.append(DTF())\n",
    "    models.append(CBC(learning_rate=0.04))\n",
    "    models.append(XGBClassifier())\n",
    "    models.append(LGBMClassifier())\n",
    "    #Fit the dataset for each of these classifiers: Random Forest, Logistic Regression, K-Nearest Neighbors, Kernelized Support \n",
    "    #Vector Machines, Decision Tree Classifier and CatBoost\n",
    "    for i,model in enumerate(models):\n",
    "        fit_and_predict(model,X_train,y_train,X_test,y_test)\n",
    "        print(model,\"done!\")\n",
    "        print(\"Training Accuracy:\",train_accuracy[i])\n",
    "        print(\"Test Accuracy:\",test_accuracy[i])\n",
    "        print(\"F1 Score:\", fscore[i])"
   ]
  },
  {
   "cell_type": "code",
   "execution_count": 76,
   "metadata": {},
   "outputs": [],
   "source": [
    "# Represent the training and testing accuracies in the form of an easy-to-interpret table\n",
    "def represent(train_accuracy,test_accuracy, f1_score):\n",
    "    results = pd.DataFrame({\n",
    "        'Model': ['Random Forest','Logistic Regression','KNN(3)','Naive Bayes','Support Vector Machine', 'Decision Tree', 'Catboost','XGBoost','LGBM'],\n",
    "        'Training Score': train_accuracy,\n",
    "        'Testing Score': test_accuracy,\n",
    "        'F1 Score': fscore})\n",
    "    result_df = results.set_index('Model')\n",
    "    print(result_df)"
   ]
  },
  {
   "cell_type": "code",
   "execution_count": 77,
   "metadata": {},
   "outputs": [],
   "source": [
    "# Plot the Receiver Operating Characteristics for each of the classifiers with respect to the base classifier with no \n",
    "# disciminative/predictive power(TPR=FPR line)\n",
    "def plotROC(ftpr):\n",
    "    ns_probs = [0 for _ in range(len(y_test))]\n",
    "    ns_fpr,ns_tpr,_=roc_curve(y_test,ns_probs)\n",
    "    plt.figure(figsize=(10,10))\n",
    "    plt.plot(ns_fpr, ns_tpr, linestyle='--', label='No Skill')\n",
    "    labels=['Random Forest','Logistic Regression','KNN(n=3)','Naive Bayes','Support Vector Classifier','Decision Tree','Catboost','XGBoost','LGBM']\n",
    "    labels=iter(labels)\n",
    "    for i in ftpr:\n",
    "        plt.plot(i[0],i[1],marker='.', label='%s, %lf'%(next(labels),i[2]))\n",
    "    plt.xlabel('False Positive Rate')\n",
    "    plt.ylabel('True Positive Rate')\n",
    "    plt.legend()\n",
    "    plt.show()"
   ]
  },
  {
   "cell_type": "code",
   "execution_count": 45,
   "metadata": {},
   "outputs": [],
   "source": [
    "#Split the dataset into 70(train) - 30(test)\n",
    "X = df.drop(['PURCHASE'], axis=1)\n",
    "y = df['PURCHASE']"
   ]
  },
  {
   "cell_type": "code",
   "execution_count": 46,
   "metadata": {},
   "outputs": [],
   "source": [
    "X_train, X_test, y_train, y_test = train_test_split(X, y, test_size = 0.3, random_state = 0)"
   ]
  },
  {
   "cell_type": "code",
   "execution_count": 80,
   "metadata": {
    "collapsed": true,
    "jupyter": {
     "outputs_hidden": true
    }
   },
   "outputs": [
    {
     "name": "stdout",
     "output_type": "stream",
     "text": [
      "Encoding feature: STATE\n",
      "Encoding feature: OCCUPATION\n",
      "Encoding feature: INCOME_GROUP\n",
      "Encoding feature: LOYALTY_PROGRAM\n"
     ]
    },
    {
     "name": "stderr",
     "output_type": "stream",
     "text": [
      "<ipython-input-72-9c22418f3d0b>:10: SettingWithCopyWarning: \n",
      "A value is trying to be set on a copy of a slice from a DataFrame.\n",
      "Try using .loc[row_indexer,col_indexer] = value instead\n",
      "\n",
      "See the caveats in the documentation: https://pandas.pydata.org/pandas-docs/stable/user_guide/indexing.html#returning-a-view-versus-a-copy\n",
      "  X_train[feature] = le.fit_transform(X_train[feature])\n",
      "<ipython-input-72-9c22418f3d0b>:11: SettingWithCopyWarning: \n",
      "A value is trying to be set on a copy of a slice from a DataFrame.\n",
      "Try using .loc[row_indexer,col_indexer] = value instead\n",
      "\n",
      "See the caveats in the documentation: https://pandas.pydata.org/pandas-docs/stable/user_guide/indexing.html#returning-a-view-versus-a-copy\n",
      "  X_test[feature] = le.transform(X_test[feature])\n"
     ]
    },
    {
     "name": "stdout",
     "output_type": "stream",
     "text": [
      "RandomForestClassifier() done!\n",
      "Training Accuracy: 0.9997473545102078\n",
      "Test Accuracy: 0.8411744700147376\n",
      "F1 Score: 0.6230019912814165\n",
      "LogisticRegression(max_iter=10000) done!\n",
      "Training Accuracy: 0.7647967661377306\n",
      "Test Accuracy: 0.7634055095794128\n",
      "F1 Score: 0.30437970801946534\n",
      "KNeighborsClassifier(n_neighbors=3) done!\n",
      "Training Accuracy: 0.8941901254482029\n",
      "Test Accuracy: 0.8291350187053622\n",
      "F1 Score: 0.6037021455616323\n",
      "GaussianNB() done!\n",
      "Training Accuracy: 0.7572271185781889\n",
      "Test Accuracy: 0.7556739598684956\n",
      "F1 Score: 0.4678518518518518\n",
      "SVC(kernel='linear', probability=True) done!\n",
      "Training Accuracy: 0.7628533392931757\n",
      "Test Accuracy: 0.766874504024487\n",
      "F1 Score: 0.0\n",
      "DecisionTreeClassifier() done!\n",
      "Training Accuracy: 0.9998153744497673\n",
      "Test Accuracy: 0.7802063258133999\n",
      "F1 Score: 0.5352828379674017\n",
      "0:\tlearn: 0.6606120\ttotal: 171ms\tremaining: 2m 50s\n",
      "1:\tlearn: 0.6304517\ttotal: 191ms\tremaining: 1m 35s\n",
      "2:\tlearn: 0.6032383\ttotal: 212ms\tremaining: 1m 10s\n",
      "3:\tlearn: 0.5793902\ttotal: 234ms\tremaining: 58.3s\n",
      "4:\tlearn: 0.5575494\ttotal: 253ms\tremaining: 50.4s\n",
      "5:\tlearn: 0.5378756\ttotal: 273ms\tremaining: 45.2s\n",
      "6:\tlearn: 0.5201522\ttotal: 292ms\tremaining: 41.4s\n",
      "7:\tlearn: 0.5042771\ttotal: 313ms\tremaining: 38.8s\n",
      "8:\tlearn: 0.4912188\ttotal: 325ms\tremaining: 35.8s\n",
      "9:\tlearn: 0.4790086\ttotal: 341ms\tremaining: 33.7s\n",
      "10:\tlearn: 0.4672507\ttotal: 360ms\tremaining: 32.4s\n",
      "11:\tlearn: 0.4568062\ttotal: 384ms\tremaining: 31.6s\n",
      "12:\tlearn: 0.4467999\ttotal: 406ms\tremaining: 30.8s\n",
      "13:\tlearn: 0.4381157\ttotal: 426ms\tremaining: 30s\n",
      "14:\tlearn: 0.4306263\ttotal: 441ms\tremaining: 29s\n",
      "15:\tlearn: 0.4235920\ttotal: 460ms\tremaining: 28.3s\n",
      "16:\tlearn: 0.4172676\ttotal: 480ms\tremaining: 27.7s\n",
      "17:\tlearn: 0.4117066\ttotal: 500ms\tremaining: 27.3s\n",
      "18:\tlearn: 0.4068231\ttotal: 520ms\tremaining: 26.8s\n",
      "19:\tlearn: 0.4023674\ttotal: 540ms\tremaining: 26.5s\n",
      "20:\tlearn: 0.3979881\ttotal: 564ms\tremaining: 26.3s\n",
      "21:\tlearn: 0.3940697\ttotal: 589ms\tremaining: 26.2s\n",
      "22:\tlearn: 0.3904845\ttotal: 614ms\tremaining: 26.1s\n",
      "23:\tlearn: 0.3872381\ttotal: 640ms\tremaining: 26s\n",
      "24:\tlearn: 0.3845606\ttotal: 667ms\tremaining: 26s\n",
      "25:\tlearn: 0.3818279\ttotal: 695ms\tremaining: 26s\n",
      "26:\tlearn: 0.3794259\ttotal: 721ms\tremaining: 26s\n",
      "27:\tlearn: 0.3773188\ttotal: 742ms\tremaining: 25.8s\n",
      "28:\tlearn: 0.3752017\ttotal: 772ms\tremaining: 25.9s\n",
      "29:\tlearn: 0.3734479\ttotal: 797ms\tremaining: 25.8s\n",
      "30:\tlearn: 0.3718496\ttotal: 824ms\tremaining: 25.7s\n",
      "31:\tlearn: 0.3702580\ttotal: 850ms\tremaining: 25.7s\n",
      "32:\tlearn: 0.3688852\ttotal: 873ms\tremaining: 25.6s\n",
      "33:\tlearn: 0.3672672\ttotal: 900ms\tremaining: 25.6s\n",
      "34:\tlearn: 0.3657780\ttotal: 927ms\tremaining: 25.6s\n",
      "35:\tlearn: 0.3647165\ttotal: 953ms\tremaining: 25.5s\n",
      "36:\tlearn: 0.3636488\ttotal: 987ms\tremaining: 25.7s\n",
      "37:\tlearn: 0.3627194\ttotal: 1.02s\tremaining: 25.8s\n",
      "38:\tlearn: 0.3618738\ttotal: 1.04s\tremaining: 25.7s\n",
      "39:\tlearn: 0.3610221\ttotal: 1.07s\tremaining: 25.8s\n",
      "40:\tlearn: 0.3602557\ttotal: 1.11s\tremaining: 25.9s\n",
      "41:\tlearn: 0.3595857\ttotal: 1.14s\tremaining: 25.9s\n",
      "42:\tlearn: 0.3589282\ttotal: 1.17s\tremaining: 26s\n",
      "43:\tlearn: 0.3583737\ttotal: 1.2s\tremaining: 26.1s\n",
      "44:\tlearn: 0.3578971\ttotal: 1.23s\tremaining: 26.2s\n",
      "45:\tlearn: 0.3574457\ttotal: 1.26s\tremaining: 26.2s\n",
      "46:\tlearn: 0.3569838\ttotal: 1.3s\tremaining: 26.3s\n",
      "47:\tlearn: 0.3565382\ttotal: 1.33s\tremaining: 26.3s\n",
      "48:\tlearn: 0.3561438\ttotal: 1.36s\tremaining: 26.3s\n",
      "49:\tlearn: 0.3557843\ttotal: 1.38s\tremaining: 26.3s\n",
      "50:\tlearn: 0.3554363\ttotal: 1.41s\tremaining: 26.3s\n",
      "51:\tlearn: 0.3550962\ttotal: 1.44s\tremaining: 26.2s\n",
      "52:\tlearn: 0.3548080\ttotal: 1.46s\tremaining: 26.1s\n",
      "53:\tlearn: 0.3545574\ttotal: 1.49s\tremaining: 26s\n",
      "54:\tlearn: 0.3542928\ttotal: 1.51s\tremaining: 26s\n",
      "55:\tlearn: 0.3540779\ttotal: 1.53s\tremaining: 25.9s\n",
      "56:\tlearn: 0.3538158\ttotal: 1.56s\tremaining: 25.8s\n",
      "57:\tlearn: 0.3536681\ttotal: 1.58s\tremaining: 25.7s\n",
      "58:\tlearn: 0.3534785\ttotal: 1.61s\tremaining: 25.6s\n",
      "59:\tlearn: 0.3533085\ttotal: 1.63s\tremaining: 25.6s\n",
      "60:\tlearn: 0.3531806\ttotal: 1.66s\tremaining: 25.5s\n",
      "61:\tlearn: 0.3527805\ttotal: 1.68s\tremaining: 25.5s\n",
      "62:\tlearn: 0.3526082\ttotal: 1.71s\tremaining: 25.4s\n",
      "63:\tlearn: 0.3524306\ttotal: 1.74s\tremaining: 25.4s\n",
      "64:\tlearn: 0.3523089\ttotal: 1.77s\tremaining: 25.4s\n",
      "65:\tlearn: 0.3521641\ttotal: 1.79s\tremaining: 25.3s\n",
      "66:\tlearn: 0.3520504\ttotal: 1.82s\tremaining: 25.3s\n",
      "67:\tlearn: 0.3518969\ttotal: 1.84s\tremaining: 25.3s\n",
      "68:\tlearn: 0.3517750\ttotal: 1.87s\tremaining: 25.3s\n",
      "69:\tlearn: 0.3515028\ttotal: 1.9s\tremaining: 25.2s\n",
      "70:\tlearn: 0.3513485\ttotal: 1.93s\tremaining: 25.2s\n",
      "71:\tlearn: 0.3512349\ttotal: 1.96s\tremaining: 25.2s\n",
      "72:\tlearn: 0.3511531\ttotal: 1.98s\tremaining: 25.2s\n",
      "73:\tlearn: 0.3510945\ttotal: 2.01s\tremaining: 25.2s\n",
      "74:\tlearn: 0.3508386\ttotal: 2.04s\tremaining: 25.1s\n",
      "75:\tlearn: 0.3507118\ttotal: 2.06s\tremaining: 25.1s\n",
      "76:\tlearn: 0.3506092\ttotal: 2.1s\tremaining: 25.1s\n",
      "77:\tlearn: 0.3505180\ttotal: 2.12s\tremaining: 25.1s\n",
      "78:\tlearn: 0.3504542\ttotal: 2.15s\tremaining: 25s\n",
      "79:\tlearn: 0.3504134\ttotal: 2.17s\tremaining: 24.9s\n",
      "80:\tlearn: 0.3503235\ttotal: 2.19s\tremaining: 24.9s\n",
      "81:\tlearn: 0.3502764\ttotal: 2.22s\tremaining: 24.8s\n",
      "82:\tlearn: 0.3502222\ttotal: 2.25s\tremaining: 24.8s\n",
      "83:\tlearn: 0.3501811\ttotal: 2.27s\tremaining: 24.8s\n",
      "84:\tlearn: 0.3501071\ttotal: 2.29s\tremaining: 24.7s\n",
      "85:\tlearn: 0.3500137\ttotal: 2.32s\tremaining: 24.7s\n",
      "86:\tlearn: 0.3499285\ttotal: 2.35s\tremaining: 24.7s\n",
      "87:\tlearn: 0.3498634\ttotal: 2.37s\tremaining: 24.6s\n",
      "88:\tlearn: 0.3497954\ttotal: 2.4s\tremaining: 24.6s\n",
      "89:\tlearn: 0.3496000\ttotal: 2.43s\tremaining: 24.5s\n",
      "90:\tlearn: 0.3494372\ttotal: 2.45s\tremaining: 24.5s\n",
      "91:\tlearn: 0.3493564\ttotal: 2.48s\tremaining: 24.5s\n",
      "92:\tlearn: 0.3493118\ttotal: 2.51s\tremaining: 24.5s\n",
      "93:\tlearn: 0.3492718\ttotal: 2.54s\tremaining: 24.4s\n",
      "94:\tlearn: 0.3492230\ttotal: 2.56s\tremaining: 24.4s\n",
      "95:\tlearn: 0.3491721\ttotal: 2.59s\tremaining: 24.4s\n",
      "96:\tlearn: 0.3491241\ttotal: 2.62s\tremaining: 24.4s\n",
      "97:\tlearn: 0.3490731\ttotal: 2.64s\tremaining: 24.3s\n",
      "98:\tlearn: 0.3489313\ttotal: 2.67s\tremaining: 24.3s\n",
      "99:\tlearn: 0.3488929\ttotal: 2.7s\tremaining: 24.3s\n",
      "100:\tlearn: 0.3488637\ttotal: 2.72s\tremaining: 24.2s\n",
      "101:\tlearn: 0.3488242\ttotal: 2.75s\tremaining: 24.2s\n",
      "102:\tlearn: 0.3487891\ttotal: 2.78s\tremaining: 24.2s\n",
      "103:\tlearn: 0.3487406\ttotal: 2.8s\tremaining: 24.2s\n",
      "104:\tlearn: 0.3487135\ttotal: 2.82s\tremaining: 24.1s\n",
      "105:\tlearn: 0.3486818\ttotal: 2.85s\tremaining: 24s\n",
      "106:\tlearn: 0.3486468\ttotal: 2.87s\tremaining: 23.9s\n",
      "107:\tlearn: 0.3486124\ttotal: 2.9s\tremaining: 23.9s\n",
      "108:\tlearn: 0.3485801\ttotal: 2.93s\tremaining: 23.9s\n",
      "109:\tlearn: 0.3485490\ttotal: 2.95s\tremaining: 23.9s\n",
      "110:\tlearn: 0.3485027\ttotal: 2.98s\tremaining: 23.9s\n",
      "111:\tlearn: 0.3484783\ttotal: 3.01s\tremaining: 23.8s\n",
      "112:\tlearn: 0.3484585\ttotal: 3.03s\tremaining: 23.8s\n",
      "113:\tlearn: 0.3484275\ttotal: 3.06s\tremaining: 23.8s\n",
      "114:\tlearn: 0.3483938\ttotal: 3.09s\tremaining: 23.8s\n",
      "115:\tlearn: 0.3483719\ttotal: 3.11s\tremaining: 23.7s\n",
      "116:\tlearn: 0.3483396\ttotal: 3.14s\tremaining: 23.7s\n",
      "117:\tlearn: 0.3483146\ttotal: 3.17s\tremaining: 23.7s\n",
      "118:\tlearn: 0.3482950\ttotal: 3.19s\tremaining: 23.6s\n",
      "119:\tlearn: 0.3482548\ttotal: 3.22s\tremaining: 23.6s\n",
      "120:\tlearn: 0.3482332\ttotal: 3.25s\tremaining: 23.6s\n",
      "121:\tlearn: 0.3481964\ttotal: 3.27s\tremaining: 23.6s\n",
      "122:\tlearn: 0.3481769\ttotal: 3.3s\tremaining: 23.5s\n",
      "123:\tlearn: 0.3481513\ttotal: 3.33s\tremaining: 23.5s\n",
      "124:\tlearn: 0.3480973\ttotal: 3.35s\tremaining: 23.5s\n",
      "125:\tlearn: 0.3480804\ttotal: 3.38s\tremaining: 23.4s\n",
      "126:\tlearn: 0.3480421\ttotal: 3.41s\tremaining: 23.4s\n",
      "127:\tlearn: 0.3479555\ttotal: 3.43s\tremaining: 23.4s\n",
      "128:\tlearn: 0.3479246\ttotal: 3.46s\tremaining: 23.4s\n",
      "129:\tlearn: 0.3478862\ttotal: 3.48s\tremaining: 23.3s\n",
      "130:\tlearn: 0.3478609\ttotal: 3.5s\tremaining: 23.3s\n",
      "131:\tlearn: 0.3478398\ttotal: 3.52s\tremaining: 23.2s\n",
      "132:\tlearn: 0.3478021\ttotal: 3.55s\tremaining: 23.2s\n",
      "133:\tlearn: 0.3477791\ttotal: 3.57s\tremaining: 23.1s\n",
      "134:\tlearn: 0.3477438\ttotal: 3.6s\tremaining: 23.1s\n",
      "135:\tlearn: 0.3477095\ttotal: 3.63s\tremaining: 23.1s\n",
      "136:\tlearn: 0.3476422\ttotal: 3.65s\tremaining: 23s\n",
      "137:\tlearn: 0.3476192\ttotal: 3.68s\tremaining: 23s\n",
      "138:\tlearn: 0.3475999\ttotal: 3.71s\tremaining: 23s\n",
      "139:\tlearn: 0.3475851\ttotal: 3.73s\tremaining: 22.9s\n",
      "140:\tlearn: 0.3475513\ttotal: 3.75s\tremaining: 22.9s\n",
      "141:\tlearn: 0.3475230\ttotal: 3.77s\tremaining: 22.8s\n",
      "142:\tlearn: 0.3474974\ttotal: 3.8s\tremaining: 22.8s\n",
      "143:\tlearn: 0.3474767\ttotal: 3.83s\tremaining: 22.8s\n",
      "144:\tlearn: 0.3474531\ttotal: 3.86s\tremaining: 22.8s\n",
      "145:\tlearn: 0.3473741\ttotal: 3.89s\tremaining: 22.8s\n",
      "146:\tlearn: 0.3473412\ttotal: 3.92s\tremaining: 22.7s\n",
      "147:\tlearn: 0.3473119\ttotal: 3.94s\tremaining: 22.7s\n",
      "148:\tlearn: 0.3472920\ttotal: 3.97s\tremaining: 22.7s\n",
      "149:\tlearn: 0.3472694\ttotal: 4s\tremaining: 22.7s\n",
      "150:\tlearn: 0.3472578\ttotal: 4.03s\tremaining: 22.7s\n",
      "151:\tlearn: 0.3472355\ttotal: 4.06s\tremaining: 22.7s\n",
      "152:\tlearn: 0.3472151\ttotal: 4.09s\tremaining: 22.7s\n",
      "153:\tlearn: 0.3471966\ttotal: 4.13s\tremaining: 22.7s\n",
      "154:\tlearn: 0.3471081\ttotal: 4.16s\tremaining: 22.7s\n",
      "155:\tlearn: 0.3470910\ttotal: 4.18s\tremaining: 22.6s\n",
      "156:\tlearn: 0.3470706\ttotal: 4.21s\tremaining: 22.6s\n",
      "157:\tlearn: 0.3470658\ttotal: 4.23s\tremaining: 22.6s\n",
      "158:\tlearn: 0.3470402\ttotal: 4.27s\tremaining: 22.6s\n",
      "159:\tlearn: 0.3470161\ttotal: 4.3s\tremaining: 22.6s\n",
      "160:\tlearn: 0.3470020\ttotal: 4.33s\tremaining: 22.6s\n",
      "161:\tlearn: 0.3469822\ttotal: 4.36s\tremaining: 22.6s\n",
      "162:\tlearn: 0.3469662\ttotal: 4.39s\tremaining: 22.6s\n",
      "163:\tlearn: 0.3469491\ttotal: 4.42s\tremaining: 22.5s\n",
      "164:\tlearn: 0.3469302\ttotal: 4.45s\tremaining: 22.5s\n",
      "165:\tlearn: 0.3469136\ttotal: 4.49s\tremaining: 22.5s\n",
      "166:\tlearn: 0.3469023\ttotal: 4.52s\tremaining: 22.5s\n",
      "167:\tlearn: 0.3468785\ttotal: 4.55s\tremaining: 22.5s\n",
      "168:\tlearn: 0.3468452\ttotal: 4.57s\tremaining: 22.5s\n",
      "169:\tlearn: 0.3468228\ttotal: 4.6s\tremaining: 22.5s\n",
      "170:\tlearn: 0.3467957\ttotal: 4.64s\tremaining: 22.5s\n",
      "171:\tlearn: 0.3467690\ttotal: 4.67s\tremaining: 22.5s\n",
      "172:\tlearn: 0.3467553\ttotal: 4.7s\tremaining: 22.5s\n",
      "173:\tlearn: 0.3467363\ttotal: 4.73s\tremaining: 22.4s\n",
      "174:\tlearn: 0.3467062\ttotal: 4.76s\tremaining: 22.4s\n",
      "175:\tlearn: 0.3466835\ttotal: 4.79s\tremaining: 22.4s\n",
      "176:\tlearn: 0.3466663\ttotal: 4.82s\tremaining: 22.4s\n",
      "177:\tlearn: 0.3466412\ttotal: 4.85s\tremaining: 22.4s\n",
      "178:\tlearn: 0.3466263\ttotal: 4.88s\tremaining: 22.4s\n",
      "179:\tlearn: 0.3465989\ttotal: 4.91s\tremaining: 22.4s\n",
      "180:\tlearn: 0.3465731\ttotal: 4.94s\tremaining: 22.3s\n",
      "181:\tlearn: 0.3465557\ttotal: 4.97s\tremaining: 22.3s\n",
      "182:\tlearn: 0.3465355\ttotal: 5s\tremaining: 22.3s\n",
      "183:\tlearn: 0.3465181\ttotal: 5.03s\tremaining: 22.3s\n",
      "184:\tlearn: 0.3464921\ttotal: 5.06s\tremaining: 22.3s\n",
      "185:\tlearn: 0.3464750\ttotal: 5.09s\tremaining: 22.3s\n",
      "186:\tlearn: 0.3464416\ttotal: 5.13s\tremaining: 22.3s\n",
      "187:\tlearn: 0.3464242\ttotal: 5.16s\tremaining: 22.3s\n",
      "188:\tlearn: 0.3463974\ttotal: 5.19s\tremaining: 22.3s\n",
      "189:\tlearn: 0.3463768\ttotal: 5.22s\tremaining: 22.3s\n",
      "190:\tlearn: 0.3463568\ttotal: 5.26s\tremaining: 22.3s\n",
      "191:\tlearn: 0.3463317\ttotal: 5.29s\tremaining: 22.3s\n",
      "192:\tlearn: 0.3463169\ttotal: 5.32s\tremaining: 22.3s\n",
      "193:\tlearn: 0.3463055\ttotal: 5.35s\tremaining: 22.2s\n",
      "194:\tlearn: 0.3462913\ttotal: 5.39s\tremaining: 22.2s\n",
      "195:\tlearn: 0.3462768\ttotal: 5.42s\tremaining: 22.2s\n",
      "196:\tlearn: 0.3462585\ttotal: 5.46s\tremaining: 22.2s\n",
      "197:\tlearn: 0.3462405\ttotal: 5.49s\tremaining: 22.2s\n",
      "198:\tlearn: 0.3462205\ttotal: 5.53s\tremaining: 22.2s\n",
      "199:\tlearn: 0.3461562\ttotal: 5.57s\tremaining: 22.3s\n",
      "200:\tlearn: 0.3461247\ttotal: 5.61s\tremaining: 22.3s\n",
      "201:\tlearn: 0.3461057\ttotal: 5.66s\tremaining: 22.3s\n",
      "202:\tlearn: 0.3460762\ttotal: 5.7s\tremaining: 22.4s\n",
      "203:\tlearn: 0.3460638\ttotal: 5.75s\tremaining: 22.4s\n",
      "204:\tlearn: 0.3460484\ttotal: 5.8s\tremaining: 22.5s\n",
      "205:\tlearn: 0.3460342\ttotal: 5.85s\tremaining: 22.5s\n",
      "206:\tlearn: 0.3460073\ttotal: 5.9s\tremaining: 22.6s\n",
      "207:\tlearn: 0.3459913\ttotal: 5.95s\tremaining: 22.7s\n",
      "208:\tlearn: 0.3459773\ttotal: 6.01s\tremaining: 22.8s\n",
      "209:\tlearn: 0.3459588\ttotal: 6.08s\tremaining: 22.9s\n",
      "210:\tlearn: 0.3459376\ttotal: 6.16s\tremaining: 23s\n",
      "211:\tlearn: 0.3459157\ttotal: 6.24s\tremaining: 23.2s\n",
      "212:\tlearn: 0.3458924\ttotal: 6.33s\tremaining: 23.4s\n",
      "213:\tlearn: 0.3458328\ttotal: 6.41s\tremaining: 23.6s\n",
      "214:\tlearn: 0.3458169\ttotal: 6.49s\tremaining: 23.7s\n",
      "215:\tlearn: 0.3457962\ttotal: 6.58s\tremaining: 23.9s\n",
      "216:\tlearn: 0.3457950\ttotal: 6.63s\tremaining: 23.9s\n",
      "217:\tlearn: 0.3457741\ttotal: 6.71s\tremaining: 24.1s\n",
      "218:\tlearn: 0.3457614\ttotal: 6.78s\tremaining: 24.2s\n",
      "219:\tlearn: 0.3457419\ttotal: 6.87s\tremaining: 24.3s\n",
      "220:\tlearn: 0.3457265\ttotal: 6.95s\tremaining: 24.5s\n",
      "221:\tlearn: 0.3457083\ttotal: 7.01s\tremaining: 24.6s\n",
      "222:\tlearn: 0.3456897\ttotal: 7.09s\tremaining: 24.7s\n",
      "223:\tlearn: 0.3456703\ttotal: 7.17s\tremaining: 24.9s\n",
      "224:\tlearn: 0.3456612\ttotal: 7.25s\tremaining: 25s\n",
      "225:\tlearn: 0.3456395\ttotal: 7.32s\tremaining: 25.1s\n",
      "226:\tlearn: 0.3456290\ttotal: 7.4s\tremaining: 25.2s\n",
      "227:\tlearn: 0.3456136\ttotal: 7.49s\tremaining: 25.4s\n",
      "228:\tlearn: 0.3455909\ttotal: 7.57s\tremaining: 25.5s\n",
      "229:\tlearn: 0.3455767\ttotal: 7.67s\tremaining: 25.7s\n",
      "230:\tlearn: 0.3455582\ttotal: 7.75s\tremaining: 25.8s\n",
      "231:\tlearn: 0.3455498\ttotal: 7.84s\tremaining: 26s\n",
      "232:\tlearn: 0.3455423\ttotal: 7.93s\tremaining: 26.1s\n",
      "233:\tlearn: 0.3455343\ttotal: 8.02s\tremaining: 26.3s\n",
      "234:\tlearn: 0.3455216\ttotal: 8.13s\tremaining: 26.4s\n",
      "235:\tlearn: 0.3455151\ttotal: 8.2s\tremaining: 26.5s\n",
      "236:\tlearn: 0.3454983\ttotal: 8.28s\tremaining: 26.7s\n",
      "237:\tlearn: 0.3454880\ttotal: 8.36s\tremaining: 26.8s\n",
      "238:\tlearn: 0.3454710\ttotal: 8.44s\tremaining: 26.9s\n",
      "239:\tlearn: 0.3454522\ttotal: 8.53s\tremaining: 27s\n",
      "240:\tlearn: 0.3454371\ttotal: 8.62s\tremaining: 27.1s\n",
      "241:\tlearn: 0.3454272\ttotal: 8.71s\tremaining: 27.3s\n",
      "242:\tlearn: 0.3454100\ttotal: 8.79s\tremaining: 27.4s\n",
      "243:\tlearn: 0.3453933\ttotal: 8.88s\tremaining: 27.5s\n",
      "244:\tlearn: 0.3453729\ttotal: 8.96s\tremaining: 27.6s\n",
      "245:\tlearn: 0.3453521\ttotal: 9.04s\tremaining: 27.7s\n",
      "246:\tlearn: 0.3453458\ttotal: 9.12s\tremaining: 27.8s\n",
      "247:\tlearn: 0.3453291\ttotal: 9.18s\tremaining: 27.8s\n",
      "248:\tlearn: 0.3453164\ttotal: 9.25s\tremaining: 27.9s\n",
      "249:\tlearn: 0.3453063\ttotal: 9.32s\tremaining: 28s\n",
      "250:\tlearn: 0.3452913\ttotal: 9.39s\tremaining: 28s\n",
      "251:\tlearn: 0.3452903\ttotal: 9.44s\tremaining: 28s\n",
      "252:\tlearn: 0.3452750\ttotal: 9.52s\tremaining: 28.1s\n",
      "253:\tlearn: 0.3452469\ttotal: 9.6s\tremaining: 28.2s\n",
      "254:\tlearn: 0.3452254\ttotal: 9.66s\tremaining: 28.2s\n",
      "255:\tlearn: 0.3452006\ttotal: 9.73s\tremaining: 28.3s\n",
      "256:\tlearn: 0.3451786\ttotal: 9.79s\tremaining: 28.3s\n",
      "257:\tlearn: 0.3451595\ttotal: 9.86s\tremaining: 28.3s\n",
      "258:\tlearn: 0.3451397\ttotal: 9.93s\tremaining: 28.4s\n",
      "259:\tlearn: 0.3451171\ttotal: 10s\tremaining: 28.5s\n",
      "260:\tlearn: 0.3451023\ttotal: 10.1s\tremaining: 28.5s\n",
      "261:\tlearn: 0.3450606\ttotal: 10.1s\tremaining: 28.6s\n",
      "262:\tlearn: 0.3450397\ttotal: 10.2s\tremaining: 28.6s\n",
      "263:\tlearn: 0.3450252\ttotal: 10.3s\tremaining: 28.7s\n",
      "264:\tlearn: 0.3450159\ttotal: 10.4s\tremaining: 28.7s\n",
      "265:\tlearn: 0.3450002\ttotal: 10.4s\tremaining: 28.8s\n",
      "266:\tlearn: 0.3449785\ttotal: 10.5s\tremaining: 28.8s\n",
      "267:\tlearn: 0.3449550\ttotal: 10.6s\tremaining: 28.9s\n",
      "268:\tlearn: 0.3449399\ttotal: 10.6s\tremaining: 28.9s\n",
      "269:\tlearn: 0.3449219\ttotal: 10.7s\tremaining: 29s\n",
      "270:\tlearn: 0.3448986\ttotal: 10.8s\tremaining: 29s\n",
      "271:\tlearn: 0.3448869\ttotal: 10.9s\tremaining: 29.1s\n",
      "272:\tlearn: 0.3448765\ttotal: 10.9s\tremaining: 29.1s\n",
      "273:\tlearn: 0.3448644\ttotal: 11s\tremaining: 29.2s\n",
      "274:\tlearn: 0.3448382\ttotal: 11.1s\tremaining: 29.2s\n",
      "275:\tlearn: 0.3448091\ttotal: 11.1s\tremaining: 29.2s\n",
      "276:\tlearn: 0.3447934\ttotal: 11.2s\tremaining: 29.3s\n",
      "277:\tlearn: 0.3447739\ttotal: 11.3s\tremaining: 29.3s\n",
      "278:\tlearn: 0.3447600\ttotal: 11.4s\tremaining: 29.4s\n",
      "279:\tlearn: 0.3447304\ttotal: 11.4s\tremaining: 29.4s\n",
      "280:\tlearn: 0.3447164\ttotal: 11.5s\tremaining: 29.5s\n",
      "281:\tlearn: 0.3446944\ttotal: 11.6s\tremaining: 29.5s\n",
      "282:\tlearn: 0.3446831\ttotal: 11.7s\tremaining: 29.5s\n",
      "283:\tlearn: 0.3446636\ttotal: 11.7s\tremaining: 29.6s\n",
      "284:\tlearn: 0.3446435\ttotal: 11.8s\tremaining: 29.6s\n",
      "285:\tlearn: 0.3446309\ttotal: 11.9s\tremaining: 29.6s\n",
      "286:\tlearn: 0.3446202\ttotal: 11.9s\tremaining: 29.7s\n",
      "287:\tlearn: 0.3445958\ttotal: 12s\tremaining: 29.7s\n",
      "288:\tlearn: 0.3445811\ttotal: 12.1s\tremaining: 29.7s\n",
      "289:\tlearn: 0.3445589\ttotal: 12.1s\tremaining: 29.7s\n",
      "290:\tlearn: 0.3445364\ttotal: 12.2s\tremaining: 29.8s\n",
      "291:\tlearn: 0.3445204\ttotal: 12.3s\tremaining: 29.8s\n",
      "292:\tlearn: 0.3444995\ttotal: 12.4s\tremaining: 29.8s\n",
      "293:\tlearn: 0.3444802\ttotal: 12.4s\tremaining: 29.9s\n",
      "294:\tlearn: 0.3444659\ttotal: 12.5s\tremaining: 29.9s\n",
      "295:\tlearn: 0.3444514\ttotal: 12.6s\tremaining: 29.9s\n",
      "296:\tlearn: 0.3444290\ttotal: 12.7s\tremaining: 30s\n",
      "297:\tlearn: 0.3444095\ttotal: 12.7s\tremaining: 30s\n",
      "298:\tlearn: 0.3443959\ttotal: 12.8s\tremaining: 30s\n",
      "299:\tlearn: 0.3443785\ttotal: 12.9s\tremaining: 30.1s\n",
      "300:\tlearn: 0.3443613\ttotal: 12.9s\tremaining: 30.1s\n",
      "301:\tlearn: 0.3443372\ttotal: 13s\tremaining: 30.1s\n",
      "302:\tlearn: 0.3443203\ttotal: 13.1s\tremaining: 30.1s\n",
      "303:\tlearn: 0.3442769\ttotal: 13.2s\tremaining: 30.2s\n",
      "304:\tlearn: 0.3442640\ttotal: 13.2s\tremaining: 30.2s\n",
      "305:\tlearn: 0.3442513\ttotal: 13.3s\tremaining: 30.2s\n",
      "306:\tlearn: 0.3442357\ttotal: 13.4s\tremaining: 30.2s\n",
      "307:\tlearn: 0.3442228\ttotal: 13.5s\tremaining: 30.2s\n",
      "308:\tlearn: 0.3441727\ttotal: 13.5s\tremaining: 30.3s\n",
      "309:\tlearn: 0.3441586\ttotal: 13.6s\tremaining: 30.3s\n",
      "310:\tlearn: 0.3441373\ttotal: 13.7s\tremaining: 30.3s\n",
      "311:\tlearn: 0.3441113\ttotal: 13.8s\tremaining: 30.3s\n",
      "312:\tlearn: 0.3440931\ttotal: 13.8s\tremaining: 30.4s\n",
      "313:\tlearn: 0.3440758\ttotal: 13.9s\tremaining: 30.4s\n",
      "314:\tlearn: 0.3440613\ttotal: 14s\tremaining: 30.4s\n",
      "315:\tlearn: 0.3440398\ttotal: 14.1s\tremaining: 30.4s\n",
      "316:\tlearn: 0.3440252\ttotal: 14.1s\tremaining: 30.5s\n",
      "317:\tlearn: 0.3440074\ttotal: 14.2s\tremaining: 30.5s\n",
      "318:\tlearn: 0.3439865\ttotal: 14.3s\tremaining: 30.5s\n",
      "319:\tlearn: 0.3439710\ttotal: 14.3s\tremaining: 30.5s\n",
      "320:\tlearn: 0.3439503\ttotal: 14.4s\tremaining: 30.5s\n",
      "321:\tlearn: 0.3439330\ttotal: 14.4s\tremaining: 30.4s\n",
      "322:\tlearn: 0.3439191\ttotal: 14.5s\tremaining: 30.4s\n",
      "323:\tlearn: 0.3438957\ttotal: 14.5s\tremaining: 30.3s\n",
      "324:\tlearn: 0.3438783\ttotal: 14.6s\tremaining: 30.2s\n",
      "325:\tlearn: 0.3438578\ttotal: 14.6s\tremaining: 30.2s\n",
      "326:\tlearn: 0.3438467\ttotal: 14.6s\tremaining: 30.1s\n",
      "327:\tlearn: 0.3438269\ttotal: 14.7s\tremaining: 30s\n",
      "328:\tlearn: 0.3438093\ttotal: 14.7s\tremaining: 30s\n",
      "329:\tlearn: 0.3437929\ttotal: 14.7s\tremaining: 29.9s\n",
      "330:\tlearn: 0.3437754\ttotal: 14.8s\tremaining: 29.8s\n",
      "331:\tlearn: 0.3437572\ttotal: 14.8s\tremaining: 29.8s\n",
      "332:\tlearn: 0.3437365\ttotal: 14.8s\tremaining: 29.7s\n",
      "333:\tlearn: 0.3437279\ttotal: 14.9s\tremaining: 29.6s\n",
      "334:\tlearn: 0.3437114\ttotal: 14.9s\tremaining: 29.6s\n",
      "335:\tlearn: 0.3436959\ttotal: 14.9s\tremaining: 29.5s\n",
      "336:\tlearn: 0.3436779\ttotal: 15s\tremaining: 29.4s\n",
      "337:\tlearn: 0.3436645\ttotal: 15s\tremaining: 29.4s\n",
      "338:\tlearn: 0.3436463\ttotal: 15s\tremaining: 29.3s\n",
      "339:\tlearn: 0.3436344\ttotal: 15.1s\tremaining: 29.2s\n",
      "340:\tlearn: 0.3436164\ttotal: 15.1s\tremaining: 29.1s\n",
      "341:\tlearn: 0.3435980\ttotal: 15.1s\tremaining: 29.1s\n",
      "342:\tlearn: 0.3435776\ttotal: 15.2s\tremaining: 29s\n",
      "343:\tlearn: 0.3435594\ttotal: 15.2s\tremaining: 29s\n",
      "344:\tlearn: 0.3435369\ttotal: 15.2s\tremaining: 28.9s\n",
      "345:\tlearn: 0.3435222\ttotal: 15.2s\tremaining: 28.8s\n",
      "346:\tlearn: 0.3435004\ttotal: 15.3s\tremaining: 28.8s\n",
      "347:\tlearn: 0.3434766\ttotal: 15.3s\tremaining: 28.7s\n",
      "348:\tlearn: 0.3434569\ttotal: 15.3s\tremaining: 28.6s\n",
      "349:\tlearn: 0.3434336\ttotal: 15.4s\tremaining: 28.6s\n",
      "350:\tlearn: 0.3434158\ttotal: 15.4s\tremaining: 28.5s\n",
      "351:\tlearn: 0.3433959\ttotal: 15.4s\tremaining: 28.4s\n",
      "352:\tlearn: 0.3433811\ttotal: 15.5s\tremaining: 28.3s\n",
      "353:\tlearn: 0.3433679\ttotal: 15.5s\tremaining: 28.3s\n",
      "354:\tlearn: 0.3433494\ttotal: 15.5s\tremaining: 28.2s\n",
      "355:\tlearn: 0.3433380\ttotal: 15.6s\tremaining: 28.2s\n",
      "356:\tlearn: 0.3433180\ttotal: 15.6s\tremaining: 28.1s\n",
      "357:\tlearn: 0.3433001\ttotal: 15.6s\tremaining: 28s\n",
      "358:\tlearn: 0.3432876\ttotal: 15.7s\tremaining: 28s\n",
      "359:\tlearn: 0.3432758\ttotal: 15.7s\tremaining: 27.9s\n",
      "360:\tlearn: 0.3432581\ttotal: 15.7s\tremaining: 27.8s\n",
      "361:\tlearn: 0.3432382\ttotal: 15.8s\tremaining: 27.8s\n",
      "362:\tlearn: 0.3432231\ttotal: 15.8s\tremaining: 27.7s\n",
      "363:\tlearn: 0.3432062\ttotal: 15.8s\tremaining: 27.6s\n",
      "364:\tlearn: 0.3431916\ttotal: 15.8s\tremaining: 27.6s\n",
      "365:\tlearn: 0.3431680\ttotal: 15.9s\tremaining: 27.5s\n",
      "366:\tlearn: 0.3431491\ttotal: 15.9s\tremaining: 27.4s\n",
      "367:\tlearn: 0.3431318\ttotal: 15.9s\tremaining: 27.4s\n",
      "368:\tlearn: 0.3431134\ttotal: 16s\tremaining: 27.3s\n",
      "369:\tlearn: 0.3430927\ttotal: 16s\tremaining: 27.2s\n",
      "370:\tlearn: 0.3430778\ttotal: 16s\tremaining: 27.2s\n",
      "371:\tlearn: 0.3430534\ttotal: 16.1s\tremaining: 27.1s\n",
      "372:\tlearn: 0.3430362\ttotal: 16.1s\tremaining: 27.1s\n",
      "373:\tlearn: 0.3430254\ttotal: 16.1s\tremaining: 27s\n",
      "374:\tlearn: 0.3430041\ttotal: 16.2s\tremaining: 26.9s\n",
      "375:\tlearn: 0.3429870\ttotal: 16.2s\tremaining: 26.9s\n",
      "376:\tlearn: 0.3429726\ttotal: 16.2s\tremaining: 26.8s\n",
      "377:\tlearn: 0.3429555\ttotal: 16.2s\tremaining: 26.7s\n",
      "378:\tlearn: 0.3429353\ttotal: 16.3s\tremaining: 26.6s\n",
      "379:\tlearn: 0.3429193\ttotal: 16.3s\tremaining: 26.6s\n",
      "380:\tlearn: 0.3429055\ttotal: 16.3s\tremaining: 26.5s\n",
      "381:\tlearn: 0.3428877\ttotal: 16.4s\tremaining: 26.5s\n",
      "382:\tlearn: 0.3428772\ttotal: 16.4s\tremaining: 26.4s\n",
      "383:\tlearn: 0.3428613\ttotal: 16.4s\tremaining: 26.3s\n",
      "384:\tlearn: 0.3428411\ttotal: 16.5s\tremaining: 26.3s\n",
      "385:\tlearn: 0.3428193\ttotal: 16.5s\tremaining: 26.2s\n",
      "386:\tlearn: 0.3428094\ttotal: 16.5s\tremaining: 26.2s\n",
      "387:\tlearn: 0.3427989\ttotal: 16.6s\tremaining: 26.1s\n",
      "388:\tlearn: 0.3427866\ttotal: 16.6s\tremaining: 26.1s\n",
      "389:\tlearn: 0.3427723\ttotal: 16.6s\tremaining: 26s\n",
      "390:\tlearn: 0.3427578\ttotal: 16.7s\tremaining: 25.9s\n",
      "391:\tlearn: 0.3427488\ttotal: 16.7s\tremaining: 25.9s\n",
      "392:\tlearn: 0.3427302\ttotal: 16.7s\tremaining: 25.8s\n",
      "393:\tlearn: 0.3427178\ttotal: 16.7s\tremaining: 25.8s\n",
      "394:\tlearn: 0.3427018\ttotal: 16.8s\tremaining: 25.7s\n",
      "395:\tlearn: 0.3426844\ttotal: 16.8s\tremaining: 25.6s\n",
      "396:\tlearn: 0.3426754\ttotal: 16.8s\tremaining: 25.6s\n",
      "397:\tlearn: 0.3426512\ttotal: 16.9s\tremaining: 25.5s\n",
      "398:\tlearn: 0.3426381\ttotal: 16.9s\tremaining: 25.5s\n",
      "399:\tlearn: 0.3426185\ttotal: 16.9s\tremaining: 25.4s\n",
      "400:\tlearn: 0.3426007\ttotal: 17s\tremaining: 25.3s\n",
      "401:\tlearn: 0.3425859\ttotal: 17s\tremaining: 25.3s\n",
      "402:\tlearn: 0.3425670\ttotal: 17s\tremaining: 25.2s\n",
      "403:\tlearn: 0.3425522\ttotal: 17.1s\tremaining: 25.2s\n",
      "404:\tlearn: 0.3425338\ttotal: 17.1s\tremaining: 25.1s\n",
      "405:\tlearn: 0.3425217\ttotal: 17.1s\tremaining: 25s\n",
      "406:\tlearn: 0.3425084\ttotal: 17.1s\tremaining: 25s\n",
      "407:\tlearn: 0.3424882\ttotal: 17.2s\tremaining: 24.9s\n",
      "408:\tlearn: 0.3424795\ttotal: 17.2s\tremaining: 24.9s\n",
      "409:\tlearn: 0.3424659\ttotal: 17.2s\tremaining: 24.8s\n",
      "410:\tlearn: 0.3424502\ttotal: 17.3s\tremaining: 24.7s\n",
      "411:\tlearn: 0.3424323\ttotal: 17.3s\tremaining: 24.7s\n",
      "412:\tlearn: 0.3424141\ttotal: 17.3s\tremaining: 24.6s\n",
      "413:\tlearn: 0.3423938\ttotal: 17.4s\tremaining: 24.6s\n",
      "414:\tlearn: 0.3423772\ttotal: 17.4s\tremaining: 24.5s\n",
      "415:\tlearn: 0.3423620\ttotal: 17.4s\tremaining: 24.5s\n",
      "416:\tlearn: 0.3423365\ttotal: 17.5s\tremaining: 24.4s\n",
      "417:\tlearn: 0.3423176\ttotal: 17.5s\tremaining: 24.4s\n",
      "418:\tlearn: 0.3423024\ttotal: 17.5s\tremaining: 24.3s\n",
      "419:\tlearn: 0.3422761\ttotal: 17.5s\tremaining: 24.2s\n",
      "420:\tlearn: 0.3422650\ttotal: 17.6s\tremaining: 24.2s\n",
      "421:\tlearn: 0.3422491\ttotal: 17.6s\tremaining: 24.1s\n",
      "422:\tlearn: 0.3422367\ttotal: 17.6s\tremaining: 24.1s\n",
      "423:\tlearn: 0.3422191\ttotal: 17.7s\tremaining: 24s\n",
      "424:\tlearn: 0.3422017\ttotal: 17.7s\tremaining: 24s\n",
      "425:\tlearn: 0.3421857\ttotal: 17.8s\tremaining: 23.9s\n",
      "426:\tlearn: 0.3421708\ttotal: 17.8s\tremaining: 23.9s\n",
      "427:\tlearn: 0.3421476\ttotal: 17.8s\tremaining: 23.8s\n",
      "428:\tlearn: 0.3421355\ttotal: 17.9s\tremaining: 23.8s\n",
      "429:\tlearn: 0.3421141\ttotal: 17.9s\tremaining: 23.7s\n",
      "430:\tlearn: 0.3420960\ttotal: 17.9s\tremaining: 23.6s\n",
      "431:\tlearn: 0.3420785\ttotal: 17.9s\tremaining: 23.6s\n",
      "432:\tlearn: 0.3420613\ttotal: 18s\tremaining: 23.5s\n",
      "433:\tlearn: 0.3420454\ttotal: 18s\tremaining: 23.5s\n",
      "434:\tlearn: 0.3420290\ttotal: 18s\tremaining: 23.4s\n",
      "435:\tlearn: 0.3420130\ttotal: 18.1s\tremaining: 23.4s\n",
      "436:\tlearn: 0.3420009\ttotal: 18.1s\tremaining: 23.3s\n",
      "437:\tlearn: 0.3419880\ttotal: 18.1s\tremaining: 23.3s\n",
      "438:\tlearn: 0.3419737\ttotal: 18.2s\tremaining: 23.2s\n",
      "439:\tlearn: 0.3419588\ttotal: 18.2s\tremaining: 23.2s\n",
      "440:\tlearn: 0.3419476\ttotal: 18.2s\tremaining: 23.1s\n",
      "441:\tlearn: 0.3419349\ttotal: 18.3s\tremaining: 23.1s\n",
      "442:\tlearn: 0.3419124\ttotal: 18.3s\tremaining: 23s\n",
      "443:\tlearn: 0.3418981\ttotal: 18.3s\tremaining: 22.9s\n",
      "444:\tlearn: 0.3418839\ttotal: 18.3s\tremaining: 22.9s\n",
      "445:\tlearn: 0.3418686\ttotal: 18.4s\tremaining: 22.8s\n",
      "446:\tlearn: 0.3418529\ttotal: 18.4s\tremaining: 22.8s\n",
      "447:\tlearn: 0.3418293\ttotal: 18.4s\tremaining: 22.7s\n",
      "448:\tlearn: 0.3418137\ttotal: 18.5s\tremaining: 22.6s\n",
      "449:\tlearn: 0.3417941\ttotal: 18.5s\tremaining: 22.6s\n",
      "450:\tlearn: 0.3417837\ttotal: 18.5s\tremaining: 22.5s\n",
      "451:\tlearn: 0.3417616\ttotal: 18.5s\tremaining: 22.5s\n",
      "452:\tlearn: 0.3417481\ttotal: 18.6s\tremaining: 22.4s\n",
      "453:\tlearn: 0.3417393\ttotal: 18.6s\tremaining: 22.4s\n",
      "454:\tlearn: 0.3417184\ttotal: 18.6s\tremaining: 22.3s\n",
      "455:\tlearn: 0.3417025\ttotal: 18.6s\tremaining: 22.2s\n",
      "456:\tlearn: 0.3416858\ttotal: 18.7s\tremaining: 22.2s\n",
      "457:\tlearn: 0.3416662\ttotal: 18.7s\tremaining: 22.1s\n",
      "458:\tlearn: 0.3416469\ttotal: 18.7s\tremaining: 22.1s\n",
      "459:\tlearn: 0.3416396\ttotal: 18.7s\tremaining: 22s\n",
      "460:\tlearn: 0.3416293\ttotal: 18.8s\tremaining: 21.9s\n",
      "461:\tlearn: 0.3416136\ttotal: 18.8s\tremaining: 21.9s\n",
      "462:\tlearn: 0.3416013\ttotal: 18.8s\tremaining: 21.8s\n",
      "463:\tlearn: 0.3415843\ttotal: 18.9s\tremaining: 21.8s\n",
      "464:\tlearn: 0.3415695\ttotal: 18.9s\tremaining: 21.7s\n",
      "465:\tlearn: 0.3415541\ttotal: 18.9s\tremaining: 21.7s\n",
      "466:\tlearn: 0.3415376\ttotal: 18.9s\tremaining: 21.6s\n",
      "467:\tlearn: 0.3415240\ttotal: 19s\tremaining: 21.5s\n",
      "468:\tlearn: 0.3415121\ttotal: 19s\tremaining: 21.5s\n",
      "469:\tlearn: 0.3414961\ttotal: 19s\tremaining: 21.4s\n",
      "470:\tlearn: 0.3414832\ttotal: 19.1s\tremaining: 21.4s\n",
      "471:\tlearn: 0.3414598\ttotal: 19.1s\tremaining: 21.4s\n",
      "472:\tlearn: 0.3414421\ttotal: 19.1s\tremaining: 21.3s\n",
      "473:\tlearn: 0.3414268\ttotal: 19.2s\tremaining: 21.3s\n",
      "474:\tlearn: 0.3414142\ttotal: 19.2s\tremaining: 21.2s\n",
      "475:\tlearn: 0.3413973\ttotal: 19.2s\tremaining: 21.1s\n",
      "476:\tlearn: 0.3413831\ttotal: 19.2s\tremaining: 21.1s\n",
      "477:\tlearn: 0.3413671\ttotal: 19.3s\tremaining: 21.1s\n",
      "478:\tlearn: 0.3413541\ttotal: 19.3s\tremaining: 21s\n",
      "479:\tlearn: 0.3413391\ttotal: 19.3s\tremaining: 20.9s\n",
      "480:\tlearn: 0.3413236\ttotal: 19.4s\tremaining: 20.9s\n",
      "481:\tlearn: 0.3413108\ttotal: 19.4s\tremaining: 20.8s\n",
      "482:\tlearn: 0.3412962\ttotal: 19.4s\tremaining: 20.8s\n",
      "483:\tlearn: 0.3412809\ttotal: 19.4s\tremaining: 20.7s\n",
      "484:\tlearn: 0.3412674\ttotal: 19.5s\tremaining: 20.7s\n",
      "485:\tlearn: 0.3412443\ttotal: 19.5s\tremaining: 20.6s\n",
      "486:\tlearn: 0.3412327\ttotal: 19.5s\tremaining: 20.6s\n",
      "487:\tlearn: 0.3412200\ttotal: 19.6s\tremaining: 20.5s\n",
      "488:\tlearn: 0.3412044\ttotal: 19.6s\tremaining: 20.5s\n",
      "489:\tlearn: 0.3411918\ttotal: 19.6s\tremaining: 20.4s\n",
      "490:\tlearn: 0.3411762\ttotal: 19.7s\tremaining: 20.4s\n",
      "491:\tlearn: 0.3411647\ttotal: 19.7s\tremaining: 20.3s\n",
      "492:\tlearn: 0.3411538\ttotal: 19.7s\tremaining: 20.3s\n",
      "493:\tlearn: 0.3411319\ttotal: 19.7s\tremaining: 20.2s\n",
      "494:\tlearn: 0.3411191\ttotal: 19.8s\tremaining: 20.2s\n",
      "495:\tlearn: 0.3411063\ttotal: 19.8s\tremaining: 20.1s\n",
      "496:\tlearn: 0.3410917\ttotal: 19.8s\tremaining: 20.1s\n",
      "497:\tlearn: 0.3410798\ttotal: 19.9s\tremaining: 20s\n",
      "498:\tlearn: 0.3410596\ttotal: 19.9s\tremaining: 20s\n",
      "499:\tlearn: 0.3410445\ttotal: 19.9s\tremaining: 19.9s\n",
      "500:\tlearn: 0.3410370\ttotal: 20s\tremaining: 19.9s\n",
      "501:\tlearn: 0.3410173\ttotal: 20s\tremaining: 19.8s\n",
      "502:\tlearn: 0.3410044\ttotal: 20s\tremaining: 19.8s\n",
      "503:\tlearn: 0.3409901\ttotal: 20.1s\tremaining: 19.8s\n",
      "504:\tlearn: 0.3409780\ttotal: 20.1s\tremaining: 19.7s\n",
      "505:\tlearn: 0.3409621\ttotal: 20.1s\tremaining: 19.7s\n",
      "506:\tlearn: 0.3409483\ttotal: 20.2s\tremaining: 19.6s\n",
      "507:\tlearn: 0.3409343\ttotal: 20.2s\tremaining: 19.6s\n",
      "508:\tlearn: 0.3409194\ttotal: 20.2s\tremaining: 19.5s\n",
      "509:\tlearn: 0.3409023\ttotal: 20.3s\tremaining: 19.5s\n",
      "510:\tlearn: 0.3408891\ttotal: 20.3s\tremaining: 19.4s\n",
      "511:\tlearn: 0.3408753\ttotal: 20.3s\tremaining: 19.4s\n",
      "512:\tlearn: 0.3408626\ttotal: 20.4s\tremaining: 19.3s\n",
      "513:\tlearn: 0.3408486\ttotal: 20.4s\tremaining: 19.3s\n",
      "514:\tlearn: 0.3408310\ttotal: 20.4s\tremaining: 19.2s\n",
      "515:\tlearn: 0.3408184\ttotal: 20.5s\tremaining: 19.2s\n",
      "516:\tlearn: 0.3408049\ttotal: 20.5s\tremaining: 19.1s\n",
      "517:\tlearn: 0.3407913\ttotal: 20.5s\tremaining: 19.1s\n",
      "518:\tlearn: 0.3407845\ttotal: 20.6s\tremaining: 19.1s\n",
      "519:\tlearn: 0.3407646\ttotal: 20.6s\tremaining: 19s\n",
      "520:\tlearn: 0.3407520\ttotal: 20.6s\tremaining: 19s\n",
      "521:\tlearn: 0.3407393\ttotal: 20.7s\tremaining: 18.9s\n",
      "522:\tlearn: 0.3407218\ttotal: 20.7s\tremaining: 18.9s\n",
      "523:\tlearn: 0.3407069\ttotal: 20.7s\tremaining: 18.8s\n",
      "524:\tlearn: 0.3406884\ttotal: 20.8s\tremaining: 18.8s\n",
      "525:\tlearn: 0.3406790\ttotal: 20.8s\tremaining: 18.8s\n",
      "526:\tlearn: 0.3406645\ttotal: 20.8s\tremaining: 18.7s\n",
      "527:\tlearn: 0.3406502\ttotal: 20.9s\tremaining: 18.7s\n",
      "528:\tlearn: 0.3406339\ttotal: 20.9s\tremaining: 18.6s\n",
      "529:\tlearn: 0.3406252\ttotal: 20.9s\tremaining: 18.6s\n",
      "530:\tlearn: 0.3406079\ttotal: 21s\tremaining: 18.5s\n",
      "531:\tlearn: 0.3405918\ttotal: 21s\tremaining: 18.5s\n",
      "532:\tlearn: 0.3405771\ttotal: 21s\tremaining: 18.4s\n",
      "533:\tlearn: 0.3405641\ttotal: 21.1s\tremaining: 18.4s\n",
      "534:\tlearn: 0.3405512\ttotal: 21.1s\tremaining: 18.3s\n",
      "535:\tlearn: 0.3405386\ttotal: 21.1s\tremaining: 18.3s\n",
      "536:\tlearn: 0.3405237\ttotal: 21.2s\tremaining: 18.2s\n",
      "537:\tlearn: 0.3405136\ttotal: 21.2s\tremaining: 18.2s\n",
      "538:\tlearn: 0.3404908\ttotal: 21.2s\tremaining: 18.1s\n",
      "539:\tlearn: 0.3404793\ttotal: 21.3s\tremaining: 18.1s\n",
      "540:\tlearn: 0.3404647\ttotal: 21.3s\tremaining: 18.1s\n",
      "541:\tlearn: 0.3404453\ttotal: 21.3s\tremaining: 18s\n",
      "542:\tlearn: 0.3404279\ttotal: 21.4s\tremaining: 18s\n",
      "543:\tlearn: 0.3404143\ttotal: 21.4s\tremaining: 17.9s\n",
      "544:\tlearn: 0.3403916\ttotal: 21.5s\tremaining: 17.9s\n",
      "545:\tlearn: 0.3403781\ttotal: 21.5s\tremaining: 17.9s\n",
      "546:\tlearn: 0.3403627\ttotal: 21.6s\tremaining: 17.9s\n",
      "547:\tlearn: 0.3403485\ttotal: 21.6s\tremaining: 17.8s\n",
      "548:\tlearn: 0.3403305\ttotal: 21.7s\tremaining: 17.8s\n",
      "549:\tlearn: 0.3403180\ttotal: 21.8s\tremaining: 17.8s\n",
      "550:\tlearn: 0.3403051\ttotal: 21.9s\tremaining: 17.8s\n",
      "551:\tlearn: 0.3402886\ttotal: 22s\tremaining: 17.8s\n",
      "552:\tlearn: 0.3402790\ttotal: 22.1s\tremaining: 17.8s\n",
      "553:\tlearn: 0.3402685\ttotal: 22.1s\tremaining: 17.8s\n",
      "554:\tlearn: 0.3402583\ttotal: 22.2s\tremaining: 17.8s\n",
      "555:\tlearn: 0.3402492\ttotal: 22.3s\tremaining: 17.8s\n",
      "556:\tlearn: 0.3402374\ttotal: 22.4s\tremaining: 17.8s\n",
      "557:\tlearn: 0.3402147\ttotal: 22.5s\tremaining: 17.8s\n",
      "558:\tlearn: 0.3402030\ttotal: 22.6s\tremaining: 17.8s\n",
      "559:\tlearn: 0.3401846\ttotal: 22.6s\tremaining: 17.8s\n",
      "560:\tlearn: 0.3401698\ttotal: 22.7s\tremaining: 17.8s\n",
      "561:\tlearn: 0.3401571\ttotal: 22.8s\tremaining: 17.8s\n",
      "562:\tlearn: 0.3401498\ttotal: 22.9s\tremaining: 17.7s\n",
      "563:\tlearn: 0.3401361\ttotal: 22.9s\tremaining: 17.7s\n",
      "564:\tlearn: 0.3401222\ttotal: 23s\tremaining: 17.7s\n",
      "565:\tlearn: 0.3401125\ttotal: 23.1s\tremaining: 17.7s\n",
      "566:\tlearn: 0.3400983\ttotal: 23.2s\tremaining: 17.7s\n",
      "567:\tlearn: 0.3400846\ttotal: 23.3s\tremaining: 17.7s\n",
      "568:\tlearn: 0.3400721\ttotal: 23.4s\tremaining: 17.7s\n",
      "569:\tlearn: 0.3400633\ttotal: 23.4s\tremaining: 17.7s\n",
      "570:\tlearn: 0.3400165\ttotal: 23.5s\tremaining: 17.7s\n",
      "571:\tlearn: 0.3399943\ttotal: 23.6s\tremaining: 17.7s\n",
      "572:\tlearn: 0.3399819\ttotal: 23.7s\tremaining: 17.7s\n",
      "573:\tlearn: 0.3399619\ttotal: 23.8s\tremaining: 17.6s\n",
      "574:\tlearn: 0.3399523\ttotal: 23.9s\tremaining: 17.6s\n",
      "575:\tlearn: 0.3399356\ttotal: 23.9s\tremaining: 17.6s\n",
      "576:\tlearn: 0.3399154\ttotal: 24s\tremaining: 17.6s\n",
      "577:\tlearn: 0.3398978\ttotal: 24.1s\tremaining: 17.6s\n",
      "578:\tlearn: 0.3398855\ttotal: 24.2s\tremaining: 17.6s\n",
      "579:\tlearn: 0.3398753\ttotal: 24.3s\tremaining: 17.6s\n",
      "580:\tlearn: 0.3398533\ttotal: 24.4s\tremaining: 17.6s\n",
      "581:\tlearn: 0.3398451\ttotal: 24.4s\tremaining: 17.6s\n",
      "582:\tlearn: 0.3398337\ttotal: 24.5s\tremaining: 17.5s\n",
      "583:\tlearn: 0.3398228\ttotal: 24.6s\tremaining: 17.5s\n",
      "584:\tlearn: 0.3398090\ttotal: 24.7s\tremaining: 17.5s\n",
      "585:\tlearn: 0.3397960\ttotal: 24.8s\tremaining: 17.5s\n",
      "586:\tlearn: 0.3397806\ttotal: 24.8s\tremaining: 17.5s\n",
      "587:\tlearn: 0.3397677\ttotal: 24.9s\tremaining: 17.5s\n",
      "588:\tlearn: 0.3397499\ttotal: 25s\tremaining: 17.5s\n",
      "589:\tlearn: 0.3397335\ttotal: 25.1s\tremaining: 17.4s\n",
      "590:\tlearn: 0.3397222\ttotal: 25.2s\tremaining: 17.4s\n",
      "591:\tlearn: 0.3397055\ttotal: 25.2s\tremaining: 17.4s\n",
      "592:\tlearn: 0.3396854\ttotal: 25.3s\tremaining: 17.4s\n",
      "593:\tlearn: 0.3396696\ttotal: 25.4s\tremaining: 17.4s\n",
      "594:\tlearn: 0.3396492\ttotal: 25.5s\tremaining: 17.3s\n",
      "595:\tlearn: 0.3396355\ttotal: 25.5s\tremaining: 17.3s\n",
      "596:\tlearn: 0.3396219\ttotal: 25.6s\tremaining: 17.3s\n",
      "597:\tlearn: 0.3396109\ttotal: 25.7s\tremaining: 17.3s\n",
      "598:\tlearn: 0.3395978\ttotal: 25.8s\tremaining: 17.2s\n",
      "599:\tlearn: 0.3395823\ttotal: 25.8s\tremaining: 17.2s\n",
      "600:\tlearn: 0.3395661\ttotal: 25.9s\tremaining: 17.2s\n",
      "601:\tlearn: 0.3395538\ttotal: 26s\tremaining: 17.2s\n",
      "602:\tlearn: 0.3395416\ttotal: 26.1s\tremaining: 17.2s\n",
      "603:\tlearn: 0.3395246\ttotal: 26.1s\tremaining: 17.1s\n",
      "604:\tlearn: 0.3395171\ttotal: 26.2s\tremaining: 17.1s\n",
      "605:\tlearn: 0.3395013\ttotal: 26.3s\tremaining: 17.1s\n",
      "606:\tlearn: 0.3394839\ttotal: 26.4s\tremaining: 17.1s\n",
      "607:\tlearn: 0.3394664\ttotal: 26.4s\tremaining: 17s\n",
      "608:\tlearn: 0.3394526\ttotal: 26.5s\tremaining: 17s\n",
      "609:\tlearn: 0.3394420\ttotal: 26.6s\tremaining: 17s\n",
      "610:\tlearn: 0.3394272\ttotal: 26.6s\tremaining: 16.9s\n",
      "611:\tlearn: 0.3394123\ttotal: 26.7s\tremaining: 16.9s\n",
      "612:\tlearn: 0.3393946\ttotal: 26.8s\tremaining: 16.9s\n",
      "613:\tlearn: 0.3393734\ttotal: 26.8s\tremaining: 16.9s\n",
      "614:\tlearn: 0.3393550\ttotal: 26.9s\tremaining: 16.8s\n",
      "615:\tlearn: 0.3393390\ttotal: 27s\tremaining: 16.8s\n",
      "616:\tlearn: 0.3393157\ttotal: 27s\tremaining: 16.8s\n",
      "617:\tlearn: 0.3393013\ttotal: 27.1s\tremaining: 16.8s\n",
      "618:\tlearn: 0.3392807\ttotal: 27.2s\tremaining: 16.7s\n",
      "619:\tlearn: 0.3392680\ttotal: 27.3s\tremaining: 16.7s\n",
      "620:\tlearn: 0.3392573\ttotal: 27.3s\tremaining: 16.7s\n",
      "621:\tlearn: 0.3392417\ttotal: 27.4s\tremaining: 16.7s\n",
      "622:\tlearn: 0.3392289\ttotal: 27.5s\tremaining: 16.6s\n",
      "623:\tlearn: 0.3392168\ttotal: 27.5s\tremaining: 16.6s\n",
      "624:\tlearn: 0.3392118\ttotal: 27.6s\tremaining: 16.6s\n",
      "625:\tlearn: 0.3391967\ttotal: 27.7s\tremaining: 16.5s\n",
      "626:\tlearn: 0.3391815\ttotal: 27.8s\tremaining: 16.5s\n",
      "627:\tlearn: 0.3391713\ttotal: 27.8s\tremaining: 16.5s\n",
      "628:\tlearn: 0.3391587\ttotal: 27.9s\tremaining: 16.5s\n",
      "629:\tlearn: 0.3391404\ttotal: 28s\tremaining: 16.4s\n",
      "630:\tlearn: 0.3391238\ttotal: 28.1s\tremaining: 16.4s\n",
      "631:\tlearn: 0.3391107\ttotal: 28.1s\tremaining: 16.4s\n",
      "632:\tlearn: 0.3391039\ttotal: 28.2s\tremaining: 16.4s\n",
      "633:\tlearn: 0.3390885\ttotal: 28.3s\tremaining: 16.3s\n",
      "634:\tlearn: 0.3390741\ttotal: 28.4s\tremaining: 16.3s\n",
      "635:\tlearn: 0.3390550\ttotal: 28.4s\tremaining: 16.3s\n",
      "636:\tlearn: 0.3390405\ttotal: 28.5s\tremaining: 16.2s\n",
      "637:\tlearn: 0.3390323\ttotal: 28.6s\tremaining: 16.2s\n",
      "638:\tlearn: 0.3390225\ttotal: 28.6s\tremaining: 16.2s\n",
      "639:\tlearn: 0.3390044\ttotal: 28.7s\tremaining: 16.1s\n",
      "640:\tlearn: 0.3389867\ttotal: 28.8s\tremaining: 16.1s\n",
      "641:\tlearn: 0.3389792\ttotal: 28.9s\tremaining: 16.1s\n",
      "642:\tlearn: 0.3389646\ttotal: 28.9s\tremaining: 16.1s\n",
      "643:\tlearn: 0.3389497\ttotal: 29s\tremaining: 16s\n",
      "644:\tlearn: 0.3389358\ttotal: 29.1s\tremaining: 16s\n",
      "645:\tlearn: 0.3389233\ttotal: 29.1s\tremaining: 16s\n",
      "646:\tlearn: 0.3389040\ttotal: 29.2s\tremaining: 15.9s\n",
      "647:\tlearn: 0.3388913\ttotal: 29.3s\tremaining: 15.9s\n",
      "648:\tlearn: 0.3388819\ttotal: 29.3s\tremaining: 15.9s\n",
      "649:\tlearn: 0.3388643\ttotal: 29.4s\tremaining: 15.8s\n",
      "650:\tlearn: 0.3388473\ttotal: 29.5s\tremaining: 15.8s\n",
      "651:\tlearn: 0.3388344\ttotal: 29.6s\tremaining: 15.8s\n",
      "652:\tlearn: 0.3388219\ttotal: 29.7s\tremaining: 15.8s\n",
      "653:\tlearn: 0.3388075\ttotal: 29.8s\tremaining: 15.7s\n",
      "654:\tlearn: 0.3387945\ttotal: 29.8s\tremaining: 15.7s\n",
      "655:\tlearn: 0.3387863\ttotal: 29.9s\tremaining: 15.7s\n",
      "656:\tlearn: 0.3387694\ttotal: 30s\tremaining: 15.6s\n",
      "657:\tlearn: 0.3387575\ttotal: 30s\tremaining: 15.6s\n",
      "658:\tlearn: 0.3387409\ttotal: 30.1s\tremaining: 15.5s\n",
      "659:\tlearn: 0.3387269\ttotal: 30.1s\tremaining: 15.5s\n",
      "660:\tlearn: 0.3387108\ttotal: 30.1s\tremaining: 15.5s\n",
      "661:\tlearn: 0.3386999\ttotal: 30.2s\tremaining: 15.4s\n",
      "662:\tlearn: 0.3386863\ttotal: 30.2s\tremaining: 15.4s\n",
      "663:\tlearn: 0.3386779\ttotal: 30.2s\tremaining: 15.3s\n",
      "664:\tlearn: 0.3386599\ttotal: 30.3s\tremaining: 15.2s\n",
      "665:\tlearn: 0.3386486\ttotal: 30.3s\tremaining: 15.2s\n",
      "666:\tlearn: 0.3386292\ttotal: 30.3s\tremaining: 15.1s\n",
      "667:\tlearn: 0.3386170\ttotal: 30.4s\tremaining: 15.1s\n",
      "668:\tlearn: 0.3385961\ttotal: 30.4s\tremaining: 15s\n",
      "669:\tlearn: 0.3385798\ttotal: 30.4s\tremaining: 15s\n",
      "670:\tlearn: 0.3385645\ttotal: 30.4s\tremaining: 14.9s\n",
      "671:\tlearn: 0.3385482\ttotal: 30.5s\tremaining: 14.9s\n",
      "672:\tlearn: 0.3385347\ttotal: 30.5s\tremaining: 14.8s\n",
      "673:\tlearn: 0.3385189\ttotal: 30.5s\tremaining: 14.8s\n",
      "674:\tlearn: 0.3385064\ttotal: 30.6s\tremaining: 14.7s\n",
      "675:\tlearn: 0.3384910\ttotal: 30.6s\tremaining: 14.7s\n",
      "676:\tlearn: 0.3384767\ttotal: 30.6s\tremaining: 14.6s\n",
      "677:\tlearn: 0.3384633\ttotal: 30.6s\tremaining: 14.6s\n",
      "678:\tlearn: 0.3384513\ttotal: 30.7s\tremaining: 14.5s\n",
      "679:\tlearn: 0.3384361\ttotal: 30.7s\tremaining: 14.5s\n",
      "680:\tlearn: 0.3384234\ttotal: 30.7s\tremaining: 14.4s\n",
      "681:\tlearn: 0.3384116\ttotal: 30.8s\tremaining: 14.3s\n",
      "682:\tlearn: 0.3383948\ttotal: 30.8s\tremaining: 14.3s\n",
      "683:\tlearn: 0.3383766\ttotal: 30.8s\tremaining: 14.2s\n",
      "684:\tlearn: 0.3383345\ttotal: 30.9s\tremaining: 14.2s\n",
      "685:\tlearn: 0.3383170\ttotal: 30.9s\tremaining: 14.1s\n",
      "686:\tlearn: 0.3383008\ttotal: 30.9s\tremaining: 14.1s\n",
      "687:\tlearn: 0.3382911\ttotal: 30.9s\tremaining: 14s\n",
      "688:\tlearn: 0.3382742\ttotal: 31s\tremaining: 14s\n",
      "689:\tlearn: 0.3382672\ttotal: 31s\tremaining: 13.9s\n",
      "690:\tlearn: 0.3382448\ttotal: 31s\tremaining: 13.9s\n",
      "691:\tlearn: 0.3382337\ttotal: 31.1s\tremaining: 13.8s\n",
      "692:\tlearn: 0.3382185\ttotal: 31.1s\tremaining: 13.8s\n",
      "693:\tlearn: 0.3382005\ttotal: 31.1s\tremaining: 13.7s\n",
      "694:\tlearn: 0.3381891\ttotal: 31.1s\tremaining: 13.7s\n",
      "695:\tlearn: 0.3381811\ttotal: 31.2s\tremaining: 13.6s\n",
      "696:\tlearn: 0.3381649\ttotal: 31.2s\tremaining: 13.6s\n",
      "697:\tlearn: 0.3381517\ttotal: 31.2s\tremaining: 13.5s\n",
      "698:\tlearn: 0.3381354\ttotal: 31.2s\tremaining: 13.5s\n",
      "699:\tlearn: 0.3381229\ttotal: 31.3s\tremaining: 13.4s\n",
      "700:\tlearn: 0.3381086\ttotal: 31.3s\tremaining: 13.3s\n",
      "701:\tlearn: 0.3380995\ttotal: 31.3s\tremaining: 13.3s\n",
      "702:\tlearn: 0.3380873\ttotal: 31.4s\tremaining: 13.2s\n",
      "703:\tlearn: 0.3380716\ttotal: 31.4s\tremaining: 13.2s\n",
      "704:\tlearn: 0.3380592\ttotal: 31.4s\tremaining: 13.1s\n",
      "705:\tlearn: 0.3380479\ttotal: 31.4s\tremaining: 13.1s\n",
      "706:\tlearn: 0.3380361\ttotal: 31.5s\tremaining: 13s\n",
      "707:\tlearn: 0.3380288\ttotal: 31.5s\tremaining: 13s\n",
      "708:\tlearn: 0.3380218\ttotal: 31.5s\tremaining: 12.9s\n",
      "709:\tlearn: 0.3380113\ttotal: 31.5s\tremaining: 12.9s\n",
      "710:\tlearn: 0.3379992\ttotal: 31.6s\tremaining: 12.8s\n",
      "711:\tlearn: 0.3379832\ttotal: 31.6s\tremaining: 12.8s\n",
      "712:\tlearn: 0.3379694\ttotal: 31.6s\tremaining: 12.7s\n",
      "713:\tlearn: 0.3379540\ttotal: 31.7s\tremaining: 12.7s\n",
      "714:\tlearn: 0.3379424\ttotal: 31.7s\tremaining: 12.6s\n",
      "715:\tlearn: 0.3379276\ttotal: 31.7s\tremaining: 12.6s\n",
      "716:\tlearn: 0.3379189\ttotal: 31.8s\tremaining: 12.5s\n",
      "717:\tlearn: 0.3379061\ttotal: 31.8s\tremaining: 12.5s\n",
      "718:\tlearn: 0.3378900\ttotal: 31.8s\tremaining: 12.4s\n",
      "719:\tlearn: 0.3378536\ttotal: 31.9s\tremaining: 12.4s\n",
      "720:\tlearn: 0.3378315\ttotal: 31.9s\tremaining: 12.3s\n",
      "721:\tlearn: 0.3378138\ttotal: 31.9s\tremaining: 12.3s\n",
      "722:\tlearn: 0.3377987\ttotal: 31.9s\tremaining: 12.2s\n",
      "723:\tlearn: 0.3377848\ttotal: 32s\tremaining: 12.2s\n",
      "724:\tlearn: 0.3377653\ttotal: 32s\tremaining: 12.1s\n",
      "725:\tlearn: 0.3377509\ttotal: 32s\tremaining: 12.1s\n",
      "726:\tlearn: 0.3377340\ttotal: 32s\tremaining: 12s\n",
      "727:\tlearn: 0.3377214\ttotal: 32.1s\tremaining: 12s\n",
      "728:\tlearn: 0.3377100\ttotal: 32.1s\tremaining: 11.9s\n",
      "729:\tlearn: 0.3376970\ttotal: 32.1s\tremaining: 11.9s\n",
      "730:\tlearn: 0.3376801\ttotal: 32.2s\tremaining: 11.8s\n",
      "731:\tlearn: 0.3376697\ttotal: 32.2s\tremaining: 11.8s\n",
      "732:\tlearn: 0.3376552\ttotal: 32.2s\tremaining: 11.7s\n",
      "733:\tlearn: 0.3376419\ttotal: 32.2s\tremaining: 11.7s\n",
      "734:\tlearn: 0.3376286\ttotal: 32.3s\tremaining: 11.6s\n",
      "735:\tlearn: 0.3376176\ttotal: 32.3s\tremaining: 11.6s\n",
      "736:\tlearn: 0.3376070\ttotal: 32.3s\tremaining: 11.5s\n",
      "737:\tlearn: 0.3375983\ttotal: 32.3s\tremaining: 11.5s\n",
      "738:\tlearn: 0.3375861\ttotal: 32.4s\tremaining: 11.4s\n",
      "739:\tlearn: 0.3375766\ttotal: 32.4s\tremaining: 11.4s\n",
      "740:\tlearn: 0.3375630\ttotal: 32.4s\tremaining: 11.3s\n",
      "741:\tlearn: 0.3375410\ttotal: 32.4s\tremaining: 11.3s\n",
      "742:\tlearn: 0.3375274\ttotal: 32.5s\tremaining: 11.2s\n",
      "743:\tlearn: 0.3375099\ttotal: 32.5s\tremaining: 11.2s\n",
      "744:\tlearn: 0.3375030\ttotal: 32.5s\tremaining: 11.1s\n",
      "745:\tlearn: 0.3374847\ttotal: 32.6s\tremaining: 11.1s\n",
      "746:\tlearn: 0.3374721\ttotal: 32.6s\tremaining: 11s\n",
      "747:\tlearn: 0.3374527\ttotal: 32.6s\tremaining: 11s\n",
      "748:\tlearn: 0.3374450\ttotal: 32.7s\tremaining: 10.9s\n",
      "749:\tlearn: 0.3374247\ttotal: 32.7s\tremaining: 10.9s\n",
      "750:\tlearn: 0.3374057\ttotal: 32.7s\tremaining: 10.8s\n",
      "751:\tlearn: 0.3373913\ttotal: 32.8s\tremaining: 10.8s\n",
      "752:\tlearn: 0.3373789\ttotal: 32.8s\tremaining: 10.8s\n",
      "753:\tlearn: 0.3373631\ttotal: 32.8s\tremaining: 10.7s\n",
      "754:\tlearn: 0.3373541\ttotal: 32.8s\tremaining: 10.7s\n",
      "755:\tlearn: 0.3373387\ttotal: 32.9s\tremaining: 10.6s\n",
      "756:\tlearn: 0.3373287\ttotal: 32.9s\tremaining: 10.6s\n",
      "757:\tlearn: 0.3373149\ttotal: 32.9s\tremaining: 10.5s\n",
      "758:\tlearn: 0.3373007\ttotal: 33s\tremaining: 10.5s\n",
      "759:\tlearn: 0.3372899\ttotal: 33s\tremaining: 10.4s\n",
      "760:\tlearn: 0.3372774\ttotal: 33s\tremaining: 10.4s\n",
      "761:\tlearn: 0.3372687\ttotal: 33s\tremaining: 10.3s\n",
      "762:\tlearn: 0.3372558\ttotal: 33.1s\tremaining: 10.3s\n",
      "763:\tlearn: 0.3372432\ttotal: 33.1s\tremaining: 10.2s\n",
      "764:\tlearn: 0.3372329\ttotal: 33.1s\tremaining: 10.2s\n",
      "765:\tlearn: 0.3372197\ttotal: 33.1s\tremaining: 10.1s\n",
      "766:\tlearn: 0.3372046\ttotal: 33.2s\tremaining: 10.1s\n",
      "767:\tlearn: 0.3371922\ttotal: 33.2s\tremaining: 10s\n",
      "768:\tlearn: 0.3371823\ttotal: 33.2s\tremaining: 9.98s\n",
      "769:\tlearn: 0.3371635\ttotal: 33.2s\tremaining: 9.93s\n",
      "770:\tlearn: 0.3371449\ttotal: 33.3s\tremaining: 9.88s\n",
      "771:\tlearn: 0.3371277\ttotal: 33.3s\tremaining: 9.84s\n",
      "772:\tlearn: 0.3371164\ttotal: 33.3s\tremaining: 9.79s\n",
      "773:\tlearn: 0.3370947\ttotal: 33.4s\tremaining: 9.74s\n",
      "774:\tlearn: 0.3370813\ttotal: 33.4s\tremaining: 9.69s\n",
      "775:\tlearn: 0.3370670\ttotal: 33.4s\tremaining: 9.64s\n",
      "776:\tlearn: 0.3370469\ttotal: 33.4s\tremaining: 9.6s\n",
      "777:\tlearn: 0.3370309\ttotal: 33.5s\tremaining: 9.55s\n",
      "778:\tlearn: 0.3370202\ttotal: 33.5s\tremaining: 9.5s\n",
      "779:\tlearn: 0.3370040\ttotal: 33.5s\tremaining: 9.46s\n",
      "780:\tlearn: 0.3369906\ttotal: 33.5s\tremaining: 9.41s\n",
      "781:\tlearn: 0.3369823\ttotal: 33.6s\tremaining: 9.36s\n",
      "782:\tlearn: 0.3369722\ttotal: 33.6s\tremaining: 9.31s\n",
      "783:\tlearn: 0.3369582\ttotal: 33.6s\tremaining: 9.27s\n",
      "784:\tlearn: 0.3369445\ttotal: 33.7s\tremaining: 9.22s\n",
      "785:\tlearn: 0.3369289\ttotal: 33.7s\tremaining: 9.17s\n",
      "786:\tlearn: 0.3369192\ttotal: 33.7s\tremaining: 9.13s\n",
      "787:\tlearn: 0.3368990\ttotal: 33.8s\tremaining: 9.08s\n",
      "788:\tlearn: 0.3368843\ttotal: 33.8s\tremaining: 9.04s\n",
      "789:\tlearn: 0.3368642\ttotal: 33.8s\tremaining: 8.99s\n",
      "790:\tlearn: 0.3368540\ttotal: 33.9s\tremaining: 8.94s\n",
      "791:\tlearn: 0.3368403\ttotal: 33.9s\tremaining: 8.9s\n",
      "792:\tlearn: 0.3368278\ttotal: 33.9s\tremaining: 8.85s\n",
      "793:\tlearn: 0.3368133\ttotal: 33.9s\tremaining: 8.81s\n",
      "794:\tlearn: 0.3367964\ttotal: 34s\tremaining: 8.76s\n",
      "795:\tlearn: 0.3367850\ttotal: 34s\tremaining: 8.71s\n",
      "796:\tlearn: 0.3367712\ttotal: 34s\tremaining: 8.67s\n",
      "797:\tlearn: 0.3367589\ttotal: 34.1s\tremaining: 8.62s\n",
      "798:\tlearn: 0.3367519\ttotal: 34.1s\tremaining: 8.58s\n",
      "799:\tlearn: 0.3367356\ttotal: 34.1s\tremaining: 8.53s\n",
      "800:\tlearn: 0.3367207\ttotal: 34.1s\tremaining: 8.48s\n",
      "801:\tlearn: 0.3367040\ttotal: 34.2s\tremaining: 8.44s\n",
      "802:\tlearn: 0.3366915\ttotal: 34.2s\tremaining: 8.39s\n",
      "803:\tlearn: 0.3366817\ttotal: 34.2s\tremaining: 8.34s\n",
      "804:\tlearn: 0.3366677\ttotal: 34.3s\tremaining: 8.3s\n",
      "805:\tlearn: 0.3366552\ttotal: 34.3s\tremaining: 8.25s\n",
      "806:\tlearn: 0.3366411\ttotal: 34.3s\tremaining: 8.2s\n",
      "807:\tlearn: 0.3366299\ttotal: 34.3s\tremaining: 8.16s\n",
      "808:\tlearn: 0.3366174\ttotal: 34.4s\tremaining: 8.11s\n",
      "809:\tlearn: 0.3366027\ttotal: 34.4s\tremaining: 8.07s\n",
      "810:\tlearn: 0.3365850\ttotal: 34.4s\tremaining: 8.02s\n",
      "811:\tlearn: 0.3365731\ttotal: 34.4s\tremaining: 7.97s\n",
      "812:\tlearn: 0.3365584\ttotal: 34.5s\tremaining: 7.93s\n",
      "813:\tlearn: 0.3365507\ttotal: 34.5s\tremaining: 7.88s\n",
      "814:\tlearn: 0.3365401\ttotal: 34.5s\tremaining: 7.84s\n",
      "815:\tlearn: 0.3365310\ttotal: 34.5s\tremaining: 7.79s\n",
      "816:\tlearn: 0.3365168\ttotal: 34.6s\tremaining: 7.74s\n",
      "817:\tlearn: 0.3364999\ttotal: 34.6s\tremaining: 7.7s\n",
      "818:\tlearn: 0.3364889\ttotal: 34.6s\tremaining: 7.65s\n",
      "819:\tlearn: 0.3364695\ttotal: 34.7s\tremaining: 7.61s\n",
      "820:\tlearn: 0.3364558\ttotal: 34.7s\tremaining: 7.56s\n",
      "821:\tlearn: 0.3364434\ttotal: 34.7s\tremaining: 7.52s\n",
      "822:\tlearn: 0.3364329\ttotal: 34.7s\tremaining: 7.47s\n",
      "823:\tlearn: 0.3364159\ttotal: 34.8s\tremaining: 7.43s\n",
      "824:\tlearn: 0.3364034\ttotal: 34.8s\tremaining: 7.38s\n",
      "825:\tlearn: 0.3363914\ttotal: 34.8s\tremaining: 7.34s\n",
      "826:\tlearn: 0.3363819\ttotal: 34.9s\tremaining: 7.29s\n",
      "827:\tlearn: 0.3363655\ttotal: 34.9s\tremaining: 7.25s\n",
      "828:\tlearn: 0.3363536\ttotal: 34.9s\tremaining: 7.21s\n",
      "829:\tlearn: 0.3363446\ttotal: 35s\tremaining: 7.16s\n",
      "830:\tlearn: 0.3363346\ttotal: 35s\tremaining: 7.12s\n",
      "831:\tlearn: 0.3363223\ttotal: 35s\tremaining: 7.07s\n",
      "832:\tlearn: 0.3363073\ttotal: 35.1s\tremaining: 7.03s\n",
      "833:\tlearn: 0.3362947\ttotal: 35.1s\tremaining: 6.99s\n",
      "834:\tlearn: 0.3362864\ttotal: 35.1s\tremaining: 6.94s\n",
      "835:\tlearn: 0.3362728\ttotal: 35.2s\tremaining: 6.9s\n",
      "836:\tlearn: 0.3362599\ttotal: 35.2s\tremaining: 6.85s\n",
      "837:\tlearn: 0.3362466\ttotal: 35.2s\tremaining: 6.81s\n",
      "838:\tlearn: 0.3362363\ttotal: 35.3s\tremaining: 6.76s\n",
      "839:\tlearn: 0.3362231\ttotal: 35.3s\tremaining: 6.72s\n",
      "840:\tlearn: 0.3362109\ttotal: 35.3s\tremaining: 6.68s\n",
      "841:\tlearn: 0.3362008\ttotal: 35.3s\tremaining: 6.63s\n",
      "842:\tlearn: 0.3361841\ttotal: 35.4s\tremaining: 6.59s\n",
      "843:\tlearn: 0.3361700\ttotal: 35.4s\tremaining: 6.54s\n",
      "844:\tlearn: 0.3361496\ttotal: 35.4s\tremaining: 6.5s\n",
      "845:\tlearn: 0.3361356\ttotal: 35.5s\tremaining: 6.46s\n",
      "846:\tlearn: 0.3361243\ttotal: 35.5s\tremaining: 6.41s\n",
      "847:\tlearn: 0.3361080\ttotal: 35.5s\tremaining: 6.37s\n",
      "848:\tlearn: 0.3360966\ttotal: 35.6s\tremaining: 6.32s\n",
      "849:\tlearn: 0.3360835\ttotal: 35.6s\tremaining: 6.28s\n",
      "850:\tlearn: 0.3360668\ttotal: 35.6s\tremaining: 6.24s\n",
      "851:\tlearn: 0.3360557\ttotal: 35.7s\tremaining: 6.2s\n",
      "852:\tlearn: 0.3360411\ttotal: 35.7s\tremaining: 6.15s\n",
      "853:\tlearn: 0.3360331\ttotal: 35.7s\tremaining: 6.11s\n",
      "854:\tlearn: 0.3360193\ttotal: 35.8s\tremaining: 6.07s\n",
      "855:\tlearn: 0.3360064\ttotal: 35.8s\tremaining: 6.02s\n",
      "856:\tlearn: 0.3359904\ttotal: 35.9s\tremaining: 5.98s\n",
      "857:\tlearn: 0.3359800\ttotal: 35.9s\tremaining: 5.94s\n",
      "858:\tlearn: 0.3359588\ttotal: 36s\tremaining: 5.9s\n",
      "859:\tlearn: 0.3359462\ttotal: 36s\tremaining: 5.86s\n",
      "860:\tlearn: 0.3359339\ttotal: 36s\tremaining: 5.82s\n",
      "861:\tlearn: 0.3359204\ttotal: 36.1s\tremaining: 5.77s\n",
      "862:\tlearn: 0.3359080\ttotal: 36.1s\tremaining: 5.73s\n",
      "863:\tlearn: 0.3358938\ttotal: 36.1s\tremaining: 5.69s\n",
      "864:\tlearn: 0.3358837\ttotal: 36.2s\tremaining: 5.65s\n",
      "865:\tlearn: 0.3358712\ttotal: 36.2s\tremaining: 5.6s\n",
      "866:\tlearn: 0.3358516\ttotal: 36.3s\tremaining: 5.56s\n",
      "867:\tlearn: 0.3358405\ttotal: 36.3s\tremaining: 5.52s\n",
      "868:\tlearn: 0.3358324\ttotal: 36.3s\tremaining: 5.47s\n",
      "869:\tlearn: 0.3358223\ttotal: 36.3s\tremaining: 5.43s\n",
      "870:\tlearn: 0.3357995\ttotal: 36.4s\tremaining: 5.39s\n",
      "871:\tlearn: 0.3357878\ttotal: 36.4s\tremaining: 5.34s\n",
      "872:\tlearn: 0.3357790\ttotal: 36.4s\tremaining: 5.3s\n",
      "873:\tlearn: 0.3357681\ttotal: 36.5s\tremaining: 5.26s\n",
      "874:\tlearn: 0.3357531\ttotal: 36.5s\tremaining: 5.21s\n",
      "875:\tlearn: 0.3357450\ttotal: 36.5s\tremaining: 5.17s\n",
      "876:\tlearn: 0.3357359\ttotal: 36.6s\tremaining: 5.13s\n",
      "877:\tlearn: 0.3357238\ttotal: 36.6s\tremaining: 5.09s\n",
      "878:\tlearn: 0.3357160\ttotal: 36.6s\tremaining: 5.04s\n",
      "879:\tlearn: 0.3356984\ttotal: 36.7s\tremaining: 5s\n",
      "880:\tlearn: 0.3356900\ttotal: 36.7s\tremaining: 4.96s\n",
      "881:\tlearn: 0.3356796\ttotal: 36.7s\tremaining: 4.91s\n",
      "882:\tlearn: 0.3356694\ttotal: 36.7s\tremaining: 4.87s\n",
      "883:\tlearn: 0.3356582\ttotal: 36.8s\tremaining: 4.83s\n",
      "884:\tlearn: 0.3356475\ttotal: 36.8s\tremaining: 4.78s\n",
      "885:\tlearn: 0.3356372\ttotal: 36.8s\tremaining: 4.74s\n",
      "886:\tlearn: 0.3356256\ttotal: 36.9s\tremaining: 4.7s\n",
      "887:\tlearn: 0.3356155\ttotal: 36.9s\tremaining: 4.66s\n",
      "888:\tlearn: 0.3356024\ttotal: 37s\tremaining: 4.61s\n",
      "889:\tlearn: 0.3355894\ttotal: 37s\tremaining: 4.57s\n",
      "890:\tlearn: 0.3355736\ttotal: 37.1s\tremaining: 4.53s\n",
      "891:\tlearn: 0.3355606\ttotal: 37.1s\tremaining: 4.49s\n",
      "892:\tlearn: 0.3355506\ttotal: 37.2s\tremaining: 4.45s\n",
      "893:\tlearn: 0.3355378\ttotal: 37.2s\tremaining: 4.41s\n",
      "894:\tlearn: 0.3355229\ttotal: 37.3s\tremaining: 4.37s\n",
      "895:\tlearn: 0.3355090\ttotal: 37.3s\tremaining: 4.33s\n",
      "896:\tlearn: 0.3354976\ttotal: 37.4s\tremaining: 4.29s\n",
      "897:\tlearn: 0.3354843\ttotal: 37.5s\tremaining: 4.26s\n",
      "898:\tlearn: 0.3354718\ttotal: 37.6s\tremaining: 4.22s\n",
      "899:\tlearn: 0.3354601\ttotal: 37.7s\tremaining: 4.18s\n",
      "900:\tlearn: 0.3354452\ttotal: 37.8s\tremaining: 4.15s\n",
      "901:\tlearn: 0.3354311\ttotal: 37.9s\tremaining: 4.11s\n",
      "902:\tlearn: 0.3354116\ttotal: 37.9s\tremaining: 4.08s\n",
      "903:\tlearn: 0.3353972\ttotal: 38s\tremaining: 4.04s\n",
      "904:\tlearn: 0.3353843\ttotal: 38.1s\tremaining: 4s\n",
      "905:\tlearn: 0.3353661\ttotal: 38.2s\tremaining: 3.96s\n",
      "906:\tlearn: 0.3353520\ttotal: 38.3s\tremaining: 3.92s\n",
      "907:\tlearn: 0.3353394\ttotal: 38.4s\tremaining: 3.89s\n",
      "908:\tlearn: 0.3353207\ttotal: 38.5s\tremaining: 3.85s\n",
      "909:\tlearn: 0.3353115\ttotal: 38.5s\tremaining: 3.81s\n",
      "910:\tlearn: 0.3352994\ttotal: 38.6s\tremaining: 3.77s\n",
      "911:\tlearn: 0.3352878\ttotal: 38.7s\tremaining: 3.73s\n",
      "912:\tlearn: 0.3352740\ttotal: 38.8s\tremaining: 3.7s\n",
      "913:\tlearn: 0.3352613\ttotal: 38.9s\tremaining: 3.66s\n",
      "914:\tlearn: 0.3352512\ttotal: 38.9s\tremaining: 3.62s\n",
      "915:\tlearn: 0.3352415\ttotal: 39s\tremaining: 3.58s\n",
      "916:\tlearn: 0.3352308\ttotal: 39.1s\tremaining: 3.54s\n",
      "917:\tlearn: 0.3352250\ttotal: 39.2s\tremaining: 3.5s\n",
      "918:\tlearn: 0.3352092\ttotal: 39.3s\tremaining: 3.46s\n",
      "919:\tlearn: 0.3351978\ttotal: 39.4s\tremaining: 3.42s\n",
      "920:\tlearn: 0.3351803\ttotal: 39.5s\tremaining: 3.38s\n",
      "921:\tlearn: 0.3351689\ttotal: 39.5s\tremaining: 3.35s\n",
      "922:\tlearn: 0.3351583\ttotal: 39.6s\tremaining: 3.31s\n",
      "923:\tlearn: 0.3351454\ttotal: 39.7s\tremaining: 3.27s\n",
      "924:\tlearn: 0.3351371\ttotal: 39.8s\tremaining: 3.23s\n",
      "925:\tlearn: 0.3351272\ttotal: 39.9s\tremaining: 3.19s\n",
      "926:\tlearn: 0.3351119\ttotal: 40s\tremaining: 3.15s\n",
      "927:\tlearn: 0.3351034\ttotal: 40s\tremaining: 3.11s\n",
      "928:\tlearn: 0.3350880\ttotal: 40.1s\tremaining: 3.07s\n",
      "929:\tlearn: 0.3350761\ttotal: 40.2s\tremaining: 3.02s\n",
      "930:\tlearn: 0.3350700\ttotal: 40.3s\tremaining: 2.98s\n",
      "931:\tlearn: 0.3350558\ttotal: 40.3s\tremaining: 2.94s\n",
      "932:\tlearn: 0.3350424\ttotal: 40.4s\tremaining: 2.9s\n",
      "933:\tlearn: 0.3350334\ttotal: 40.5s\tremaining: 2.86s\n",
      "934:\tlearn: 0.3350258\ttotal: 40.5s\tremaining: 2.82s\n",
      "935:\tlearn: 0.3350149\ttotal: 40.6s\tremaining: 2.77s\n",
      "936:\tlearn: 0.3350004\ttotal: 40.7s\tremaining: 2.73s\n",
      "937:\tlearn: 0.3349856\ttotal: 40.7s\tremaining: 2.69s\n",
      "938:\tlearn: 0.3349718\ttotal: 40.8s\tremaining: 2.65s\n",
      "939:\tlearn: 0.3349464\ttotal: 40.9s\tremaining: 2.61s\n",
      "940:\tlearn: 0.3349348\ttotal: 41s\tremaining: 2.57s\n",
      "941:\tlearn: 0.3349207\ttotal: 41s\tremaining: 2.52s\n",
      "942:\tlearn: 0.3349066\ttotal: 41.1s\tremaining: 2.48s\n",
      "943:\tlearn: 0.3348951\ttotal: 41.2s\tremaining: 2.44s\n",
      "944:\tlearn: 0.3348899\ttotal: 41.3s\tremaining: 2.4s\n",
      "945:\tlearn: 0.3348798\ttotal: 41.3s\tremaining: 2.36s\n",
      "946:\tlearn: 0.3348670\ttotal: 41.4s\tremaining: 2.32s\n",
      "947:\tlearn: 0.3348487\ttotal: 41.5s\tremaining: 2.27s\n",
      "948:\tlearn: 0.3348336\ttotal: 41.5s\tremaining: 2.23s\n",
      "949:\tlearn: 0.3348208\ttotal: 41.6s\tremaining: 2.19s\n",
      "950:\tlearn: 0.3348083\ttotal: 41.7s\tremaining: 2.15s\n",
      "951:\tlearn: 0.3347953\ttotal: 41.7s\tremaining: 2.1s\n",
      "952:\tlearn: 0.3347839\ttotal: 41.8s\tremaining: 2.06s\n",
      "953:\tlearn: 0.3347696\ttotal: 41.9s\tremaining: 2.02s\n",
      "954:\tlearn: 0.3347591\ttotal: 42s\tremaining: 1.98s\n",
      "955:\tlearn: 0.3347470\ttotal: 42s\tremaining: 1.94s\n",
      "956:\tlearn: 0.3347380\ttotal: 42.1s\tremaining: 1.89s\n",
      "957:\tlearn: 0.3347251\ttotal: 42.2s\tremaining: 1.85s\n",
      "958:\tlearn: 0.3347124\ttotal: 42.3s\tremaining: 1.81s\n",
      "959:\tlearn: 0.3346986\ttotal: 42.4s\tremaining: 1.76s\n",
      "960:\tlearn: 0.3346935\ttotal: 42.4s\tremaining: 1.72s\n",
      "961:\tlearn: 0.3346812\ttotal: 42.5s\tremaining: 1.68s\n",
      "962:\tlearn: 0.3346756\ttotal: 42.6s\tremaining: 1.64s\n",
      "963:\tlearn: 0.3346563\ttotal: 42.7s\tremaining: 1.59s\n",
      "964:\tlearn: 0.3346480\ttotal: 42.7s\tremaining: 1.55s\n",
      "965:\tlearn: 0.3346371\ttotal: 42.8s\tremaining: 1.51s\n",
      "966:\tlearn: 0.3346220\ttotal: 42.9s\tremaining: 1.46s\n",
      "967:\tlearn: 0.3346064\ttotal: 42.9s\tremaining: 1.42s\n",
      "968:\tlearn: 0.3345957\ttotal: 43s\tremaining: 1.38s\n",
      "969:\tlearn: 0.3345867\ttotal: 43.1s\tremaining: 1.33s\n",
      "970:\tlearn: 0.3345767\ttotal: 43.2s\tremaining: 1.29s\n",
      "971:\tlearn: 0.3345653\ttotal: 43.2s\tremaining: 1.25s\n",
      "972:\tlearn: 0.3345548\ttotal: 43.3s\tremaining: 1.2s\n",
      "973:\tlearn: 0.3345431\ttotal: 43.4s\tremaining: 1.16s\n",
      "974:\tlearn: 0.3345321\ttotal: 43.4s\tremaining: 1.11s\n",
      "975:\tlearn: 0.3345208\ttotal: 43.5s\tremaining: 1.07s\n",
      "976:\tlearn: 0.3345100\ttotal: 43.6s\tremaining: 1.03s\n",
      "977:\tlearn: 0.3344982\ttotal: 43.6s\tremaining: 982ms\n",
      "978:\tlearn: 0.3344860\ttotal: 43.7s\tremaining: 938ms\n",
      "979:\tlearn: 0.3344653\ttotal: 43.8s\tremaining: 894ms\n",
      "980:\tlearn: 0.3344537\ttotal: 43.9s\tremaining: 850ms\n",
      "981:\tlearn: 0.3344424\ttotal: 43.9s\tremaining: 805ms\n",
      "982:\tlearn: 0.3344317\ttotal: 44s\tremaining: 761ms\n",
      "983:\tlearn: 0.3344146\ttotal: 44.1s\tremaining: 717ms\n",
      "984:\tlearn: 0.3344060\ttotal: 44.2s\tremaining: 672ms\n",
      "985:\tlearn: 0.3343951\ttotal: 44.2s\tremaining: 628ms\n",
      "986:\tlearn: 0.3343822\ttotal: 44.3s\tremaining: 584ms\n",
      "987:\tlearn: 0.3343730\ttotal: 44.4s\tremaining: 539ms\n",
      "988:\tlearn: 0.3343590\ttotal: 44.5s\tremaining: 495ms\n",
      "989:\tlearn: 0.3343485\ttotal: 44.5s\tremaining: 450ms\n",
      "990:\tlearn: 0.3343366\ttotal: 44.6s\tremaining: 405ms\n",
      "991:\tlearn: 0.3343244\ttotal: 44.7s\tremaining: 360ms\n",
      "992:\tlearn: 0.3343081\ttotal: 44.8s\tremaining: 316ms\n",
      "993:\tlearn: 0.3342956\ttotal: 44.8s\tremaining: 271ms\n",
      "994:\tlearn: 0.3342881\ttotal: 44.9s\tremaining: 226ms\n",
      "995:\tlearn: 0.3342758\ttotal: 45s\tremaining: 181ms\n",
      "996:\tlearn: 0.3342502\ttotal: 45s\tremaining: 136ms\n",
      "997:\tlearn: 0.3342375\ttotal: 45.1s\tremaining: 90.4ms\n",
      "998:\tlearn: 0.3342281\ttotal: 45.2s\tremaining: 45.2ms\n",
      "999:\tlearn: 0.3342195\ttotal: 45.3s\tremaining: 0us\n",
      "<catboost.core.CatBoostClassifier object at 0x000001FC08C317F0> done!\n",
      "Training Accuracy: 0.8651553283905511\n",
      "Test Accuracy: 0.8590409250651854\n",
      "F1 Score: 0.6349169064536967\n"
     ]
    },
    {
     "name": "stderr",
     "output_type": "stream",
     "text": [
      "C:\\Users\\vishn\\anaconda3\\lib\\site-packages\\xgboost\\sklearn.py:1146: UserWarning: The use of label encoder in XGBClassifier is deprecated and will be removed in a future release. To remove this warning, do the following: 1) Pass option use_label_encoder=False when constructing XGBClassifier object; and 2) Encode your labels (y) as integers starting with 0, i.e. 0, 1, 2, ..., [num_class - 1].\n",
      "  warnings.warn(label_encoder_deprecation_msg, UserWarning)\n"
     ]
    },
    {
     "name": "stdout",
     "output_type": "stream",
     "text": [
      "[17:21:11] WARNING: C:/Users/Administrator/workspace/xgboost-win64_release_1.4.0/src/learner.cc:1095: Starting in XGBoost 1.3.0, the default evaluation metric used with the objective 'binary:logistic' was changed from 'error' to 'logloss'. Explicitly set eval_metric if you'd like to restore the old behavior.\n",
      "XGBClassifier(base_score=0.5, booster='gbtree', colsample_bylevel=1,\n",
      "              colsample_bynode=1, colsample_bytree=1, gamma=0, gpu_id=-1,\n",
      "              importance_type='gain', interaction_constraints='',\n",
      "              learning_rate=0.300000012, max_delta_step=0, max_depth=6,\n",
      "              min_child_weight=1, missing=nan, monotone_constraints='()',\n",
      "              n_estimators=100, n_jobs=12, num_parallel_tree=1, random_state=0,\n",
      "              reg_alpha=0, reg_lambda=1, scale_pos_weight=1, subsample=1,\n",
      "              tree_method='exact', validate_parameters=1, verbosity=None) done!\n",
      "Training Accuracy: 0.8702568238575079\n",
      "Test Accuracy: 0.8575671692551865\n",
      "F1 Score: 0.6359949009155174\n",
      "LGBMClassifier() done!\n",
      "Training Accuracy: 0.8634353956331199\n",
      "Test Accuracy: 0.859834485885954\n",
      "F1 Score: 0.6331157270029674\n"
     ]
    }
   ],
   "source": [
    "train_accuracy=[]\n",
    "test_accuracy=[]\n",
    "ftpr=[]\n",
    "fscore=[]\n",
    "\n",
    "X_train,X_test=FeatureEncoding(X_train,X_test)\n",
    "X_train,X_test=StandardScaling(X_train,X_test)\n",
    "Classification(X_train,y_train,X_test,y_test)"
   ]
  },
  {
   "cell_type": "code",
   "execution_count": 81,
   "metadata": {},
   "outputs": [
    {
     "name": "stdout",
     "output_type": "stream",
     "text": [
      "                        Training Score  Testing Score  F1 Score\n",
      "Model                                                          \n",
      "Random Forest                 0.999747       0.841174  0.623002\n",
      "Logistic Regression           0.764797       0.763406  0.304380\n",
      "KNN(3)                        0.894190       0.829135  0.603702\n",
      "Naive Bayes                   0.757227       0.755674  0.467852\n",
      "Support Vector Machine        0.762853       0.766875  0.000000\n",
      "Decision Tree                 0.999815       0.780206  0.535283\n",
      "Catboost                      0.865155       0.859041  0.634917\n",
      "XGBoost                       0.870257       0.857567  0.635995\n",
      "LGBM                          0.863435       0.859834  0.633116\n"
     ]
    }
   ],
   "source": [
    "represent(train_accuracy,test_accuracy,fscore)"
   ]
  },
  {
   "cell_type": "code",
   "execution_count": 82,
   "metadata": {},
   "outputs": [
    {
     "data": {
      "image/png": "[encoded data removed]",
      "text/plain": [
       "<Figure size 720x720 with 1 Axes>"
      ]
     },
     "metadata": {
      "needs_background": "light"
     },
     "output_type": "display_data"
    }
   ],
   "source": [
    "plotROC(ftpr)"
   ]
  },
  {
   "cell_type": "markdown",
   "metadata": {},
   "source": [
    "From the above graph and data, we can see that the standard version of XGBoost provides us with the highest F1 score which according to the question is the evaluation metric, so we will be using that to predict the values in test.csv."
   ]
  },
  {
   "cell_type": "markdown",
   "metadata": {},
   "source": [
    "## Now loading the test dataframe for prediction"
   ]
  },
  {
   "cell_type": "code",
   "execution_count": 47,
   "metadata": {},
   "outputs": [],
   "source": [
    "testdf = pd.read_csv(\"data/test.csv\")"
   ]
  },
  {
   "cell_type": "code",
   "execution_count": 48,
   "metadata": {},
   "outputs": [],
   "source": [
    "submission = pd.read_csv(\"data/sample_submission.csv\")"
   ]
  },
  {
   "cell_type": "code",
   "execution_count": 49,
   "metadata": {},
   "outputs": [],
   "source": [
    "testdf = testdf.replace(r'^\\s*$', np.nan, regex=True)"
   ]
  },
  {
   "cell_type": "code",
   "execution_count": 50,
   "metadata": {},
   "outputs": [],
   "source": [
    "#Filling with mode for the other columns similar to the method we did during training\n",
    "testdf['STATE'].fillna(testdf['STATE'].mode()[0], inplace=True)\n",
    "testdf['OCCUPATION'].fillna('U1', inplace=True)\n",
    "testdf['INCOME_GROUP'].fillna(testdf['INCOME_GROUP'].mode()[0], inplace=True)\n",
    "testdf['LOYALTY_PROGRAM'].fillna('U2', inplace=True)"
   ]
  },
  {
   "cell_type": "code",
   "execution_count": 51,
   "metadata": {},
   "outputs": [],
   "source": [
    "testdf = testdf.drop('ID', axis=1)"
   ]
  },
  {
   "cell_type": "code",
   "execution_count": 52,
   "metadata": {},
   "outputs": [
    {
     "data": {
      "text/html": [
       "<div>\n",
       "<style scoped>\n",
       "    .dataframe tbody tr th:only-of-type {\n",
       "        vertical-align: middle;\n",
       "    }\n",
       "\n",
       "    .dataframe tbody tr th {\n",
       "        vertical-align: top;\n",
       "    }\n",
       "\n",
       "    .dataframe thead th {\n",
       "        text-align: right;\n",
       "    }\n",
       "</style>\n",
       "<table border=\"1\" class=\"dataframe\">\n",
       "  <thead>\n",
       "    <tr style=\"text-align: right;\">\n",
       "      <th></th>\n",
       "      <th>STATE</th>\n",
       "      <th>AGE</th>\n",
       "      <th>OCCUPATION</th>\n",
       "      <th>INCOME_GROUP</th>\n",
       "      <th>CUSTOMER_SINCE</th>\n",
       "      <th>LOYALTY_PROGRAM</th>\n",
       "      <th>PAST_PURCHASE</th>\n",
       "    </tr>\n",
       "  </thead>\n",
       "  <tbody>\n",
       "    <tr>\n",
       "      <th>0</th>\n",
       "      <td>Maharashtra</td>\n",
       "      <td>50</td>\n",
       "      <td>Self employed</td>\n",
       "      <td>Medium</td>\n",
       "      <td>2018</td>\n",
       "      <td>No</td>\n",
       "      <td>12746</td>\n",
       "    </tr>\n",
       "    <tr>\n",
       "      <th>1</th>\n",
       "      <td>Maharashtra</td>\n",
       "      <td>58</td>\n",
       "      <td>Self employed</td>\n",
       "      <td>High</td>\n",
       "      <td>2011</td>\n",
       "      <td>Yes</td>\n",
       "      <td>12277</td>\n",
       "    </tr>\n",
       "    <tr>\n",
       "      <th>2</th>\n",
       "      <td>Andaman and Nicobar Islands</td>\n",
       "      <td>30</td>\n",
       "      <td>Salaried</td>\n",
       "      <td>Low</td>\n",
       "      <td>2017</td>\n",
       "      <td>Yes</td>\n",
       "      <td>16401</td>\n",
       "    </tr>\n",
       "    <tr>\n",
       "      <th>3</th>\n",
       "      <td>Mizoram</td>\n",
       "      <td>27</td>\n",
       "      <td>Salaried</td>\n",
       "      <td>Low</td>\n",
       "      <td>2018</td>\n",
       "      <td>Yes</td>\n",
       "      <td>9665</td>\n",
       "    </tr>\n",
       "    <tr>\n",
       "      <th>4</th>\n",
       "      <td>Uttar Pradesh</td>\n",
       "      <td>67</td>\n",
       "      <td>U1</td>\n",
       "      <td>Medium</td>\n",
       "      <td>2014</td>\n",
       "      <td>No</td>\n",
       "      <td>15724</td>\n",
       "    </tr>\n",
       "  </tbody>\n",
       "</table>\n",
       "</div>"
      ],
      "text/plain": [
       "                         STATE  AGE     OCCUPATION INCOME_GROUP  \\\n",
       "0                  Maharashtra   50  Self employed       Medium   \n",
       "1                  Maharashtra   58  Self employed         High   \n",
       "2  Andaman and Nicobar Islands   30       Salaried          Low   \n",
       "3                      Mizoram   27       Salaried          Low   \n",
       "4                Uttar Pradesh   67             U1       Medium   \n",
       "\n",
       "   CUSTOMER_SINCE LOYALTY_PROGRAM  PAST_PURCHASE  \n",
       "0            2018              No          12746  \n",
       "1            2011             Yes          12277  \n",
       "2            2017             Yes          16401  \n",
       "3            2018             Yes           9665  \n",
       "4            2014              No          15724  "
      ]
     },
     "execution_count": 52,
     "metadata": {},
     "output_type": "execute_result"
    }
   ],
   "source": [
    "testdf.head()"
   ]
  },
  {
   "cell_type": "code",
   "execution_count": 53,
   "metadata": {},
   "outputs": [
    {
     "data": {
      "text/plain": [
       "Index(['STATE', 'OCCUPATION', 'INCOME_GROUP', 'LOYALTY_PROGRAM'], dtype='object')"
      ]
     },
     "execution_count": 53,
     "metadata": {},
     "output_type": "execute_result"
    }
   ],
   "source": [
    "testdf.describe(include='O').columns"
   ]
  },
  {
   "cell_type": "code",
   "execution_count": 54,
   "metadata": {},
   "outputs": [
    {
     "name": "stdout",
     "output_type": "stream",
     "text": [
      "Encoding feature: STATE\n",
      "Encoding feature: OCCUPATION\n",
      "Encoding feature: INCOME_GROUP\n",
      "Encoding feature: LOYALTY_PROGRAM\n"
     ]
    },
    {
     "name": "stderr",
     "output_type": "stream",
     "text": [
      "<ipython-input-54-2e1b340dfbe0>:7: SettingWithCopyWarning: \n",
      "A value is trying to be set on a copy of a slice from a DataFrame.\n",
      "Try using .loc[row_indexer,col_indexer] = value instead\n",
      "\n",
      "See the caveats in the documentation: https://pandas.pydata.org/pandas-docs/stable/user_guide/indexing.html#returning-a-view-versus-a-copy\n",
      "  X_train[feature] = le.fit_transform(X_train[feature])\n",
      "<ipython-input-54-2e1b340dfbe0>:8: SettingWithCopyWarning: \n",
      "A value is trying to be set on a copy of a slice from a DataFrame.\n",
      "Try using .loc[row_indexer,col_indexer] = value instead\n",
      "\n",
      "See the caveats in the documentation: https://pandas.pydata.org/pandas-docs/stable/user_guide/indexing.html#returning-a-view-versus-a-copy\n",
      "  X_test[feature] = le.transform(X_test[feature])\n"
     ]
    }
   ],
   "source": [
    "categorical=X_train.describe(include='O').columns\n",
    "for feature in categorical:\n",
    "        print('Encoding feature:',feature)\n",
    "        le = preprocessing.LabelEncoder()\n",
    "        # The dataset has already been split into training and testing datasets and they are both encoded. Encoding is done\n",
    "        # separately so that there is no bias in the testing dataset that has passed on over from the training dataset.\n",
    "        X_train[feature] = le.fit_transform(X_train[feature])\n",
    "        X_test[feature] = le.transform(X_test[feature])\n",
    "        testdf[feature] = le.transform(testdf[feature])"
   ]
  },
  {
   "cell_type": "code",
   "execution_count": 56,
   "metadata": {},
   "outputs": [],
   "source": [
    "scaler = StandardScaler()\n",
    "X_train = pd.DataFrame(scaler.fit_transform(X_train), columns = X.columns)\n",
    "X_test = pd.DataFrame(scaler.transform(X_test), columns = X.columns)\n",
    "test_df_scaled = pd.DataFrame(scaler.transform(testdf), columns = X.columns)"
   ]
  },
  {
   "cell_type": "code",
   "execution_count": 57,
   "metadata": {},
   "outputs": [
    {
     "name": "stderr",
     "output_type": "stream",
     "text": [
      "C:\\Users\\vishn\\anaconda3\\lib\\site-packages\\xgboost\\sklearn.py:1146: UserWarning: The use of label encoder in XGBClassifier is deprecated and will be removed in a future release. To remove this warning, do the following: 1) Pass option use_label_encoder=False when constructing XGBClassifier object; and 2) Encode your labels (y) as integers starting with 0, i.e. 0, 1, 2, ..., [num_class - 1].\n",
      "  warnings.warn(label_encoder_deprecation_msg, UserWarning)\n"
     ]
    },
    {
     "name": "stdout",
     "output_type": "stream",
     "text": [
      "[18:55:27] WARNING: C:/Users/Administrator/workspace/xgboost-win64_release_1.4.0/src/learner.cc:1095: Starting in XGBoost 1.3.0, the default evaluation metric used with the objective 'binary:logistic' was changed from 'error' to 'logloss'. Explicitly set eval_metric if you'd like to restore the old behavior.\n",
      "Accuracy: 85.76%\n",
      "F1 Score:  0.6359949009155174\n"
     ]
    }
   ],
   "source": [
    "model = XGBClassifier()\n",
    "model.fit(X_train, y_train)\n",
    "y_pred = model.predict(X_test)\n",
    "predictions = [round(value) for value in y_pred]\n",
    "# evaluate predictions\n",
    "accuracy = accuracy_score(y_test, predictions)\n",
    "print(\"Accuracy: %.2f%%\" % (accuracy * 100.0))\n",
    "print(\"F1 Score: \",f1_score(y_test, predictions))"
   ]
  },
  {
   "cell_type": "code",
   "execution_count": 58,
   "metadata": {},
   "outputs": [],
   "source": [
    "# Predicting the values for the given test dataset\n",
    "pred = model.predict(test_df_scaled)\n",
    "predictions = [round(value) for value in pred]"
   ]
  },
  {
   "cell_type": "code",
   "execution_count": 59,
   "metadata": {},
   "outputs": [
    {
     "data": {
      "text/plain": [
       "50000"
      ]
     },
     "execution_count": 59,
     "metadata": {},
     "output_type": "execute_result"
    }
   ],
   "source": [
    "len(predictions)"
   ]
  },
  {
   "cell_type": "code",
   "execution_count": 60,
   "metadata": {},
   "outputs": [],
   "source": [
    "submission[\"PURCHASE\"] = predictions"
   ]
  },
  {
   "cell_type": "code",
   "execution_count": 61,
   "metadata": {},
   "outputs": [
    {
     "data": {
      "text/html": [
       "<div>\n",
       "<style scoped>\n",
       "    .dataframe tbody tr th:only-of-type {\n",
       "        vertical-align: middle;\n",
       "    }\n",
       "\n",
       "    .dataframe tbody tr th {\n",
       "        vertical-align: top;\n",
       "    }\n",
       "\n",
       "    .dataframe thead th {\n",
       "        text-align: right;\n",
       "    }\n",
       "</style>\n",
       "<table border=\"1\" class=\"dataframe\">\n",
       "  <thead>\n",
       "    <tr style=\"text-align: right;\">\n",
       "      <th></th>\n",
       "      <th>ID</th>\n",
       "      <th>PURCHASE</th>\n",
       "    </tr>\n",
       "  </thead>\n",
       "  <tbody>\n",
       "    <tr>\n",
       "      <th>0</th>\n",
       "      <td>150001</td>\n",
       "      <td>0</td>\n",
       "    </tr>\n",
       "    <tr>\n",
       "      <th>1</th>\n",
       "      <td>150002</td>\n",
       "      <td>0</td>\n",
       "    </tr>\n",
       "    <tr>\n",
       "      <th>2</th>\n",
       "      <td>150003</td>\n",
       "      <td>0</td>\n",
       "    </tr>\n",
       "    <tr>\n",
       "      <th>3</th>\n",
       "      <td>150004</td>\n",
       "      <td>0</td>\n",
       "    </tr>\n",
       "    <tr>\n",
       "      <th>4</th>\n",
       "      <td>150005</td>\n",
       "      <td>0</td>\n",
       "    </tr>\n",
       "    <tr>\n",
       "      <th>...</th>\n",
       "      <td>...</td>\n",
       "      <td>...</td>\n",
       "    </tr>\n",
       "    <tr>\n",
       "      <th>49995</th>\n",
       "      <td>199996</td>\n",
       "      <td>0</td>\n",
       "    </tr>\n",
       "    <tr>\n",
       "      <th>49996</th>\n",
       "      <td>199997</td>\n",
       "      <td>1</td>\n",
       "    </tr>\n",
       "    <tr>\n",
       "      <th>49997</th>\n",
       "      <td>199998</td>\n",
       "      <td>0</td>\n",
       "    </tr>\n",
       "    <tr>\n",
       "      <th>49998</th>\n",
       "      <td>199999</td>\n",
       "      <td>0</td>\n",
       "    </tr>\n",
       "    <tr>\n",
       "      <th>49999</th>\n",
       "      <td>200000</td>\n",
       "      <td>0</td>\n",
       "    </tr>\n",
       "  </tbody>\n",
       "</table>\n",
       "<p>50000 rows × 2 columns</p>\n",
       "</div>"
      ],
      "text/plain": [
       "           ID  PURCHASE\n",
       "0      150001         0\n",
       "1      150002         0\n",
       "2      150003         0\n",
       "3      150004         0\n",
       "4      150005         0\n",
       "...       ...       ...\n",
       "49995  199996         0\n",
       "49996  199997         1\n",
       "49997  199998         0\n",
       "49998  199999         0\n",
       "49999  200000         0\n",
       "\n",
       "[50000 rows x 2 columns]"
      ]
     },
     "execution_count": 61,
     "metadata": {},
     "output_type": "execute_result"
    }
   ],
   "source": [
    "submission"
   ]
  },
  {
   "cell_type": "code",
   "execution_count": 62,
   "metadata": {},
   "outputs": [],
   "source": [
    "submission['PURCHASE'] = submission['PURCHASE'].map({1: 'Yes', 0: 'No'})"
   ]
  },
  {
   "cell_type": "code",
   "execution_count": 63,
   "metadata": {},
   "outputs": [
    {
     "data": {
      "text/html": [
       "<div>\n",
       "<style scoped>\n",
       "    .dataframe tbody tr th:only-of-type {\n",
       "        vertical-align: middle;\n",
       "    }\n",
       "\n",
       "    .dataframe tbody tr th {\n",
       "        vertical-align: top;\n",
       "    }\n",
       "\n",
       "    .dataframe thead th {\n",
       "        text-align: right;\n",
       "    }\n",
       "</style>\n",
       "<table border=\"1\" class=\"dataframe\">\n",
       "  <thead>\n",
       "    <tr style=\"text-align: right;\">\n",
       "      <th></th>\n",
       "      <th>ID</th>\n",
       "      <th>PURCHASE</th>\n",
       "    </tr>\n",
       "  </thead>\n",
       "  <tbody>\n",
       "    <tr>\n",
       "      <th>0</th>\n",
       "      <td>150001</td>\n",
       "      <td>No</td>\n",
       "    </tr>\n",
       "    <tr>\n",
       "      <th>1</th>\n",
       "      <td>150002</td>\n",
       "      <td>No</td>\n",
       "    </tr>\n",
       "    <tr>\n",
       "      <th>2</th>\n",
       "      <td>150003</td>\n",
       "      <td>No</td>\n",
       "    </tr>\n",
       "    <tr>\n",
       "      <th>3</th>\n",
       "      <td>150004</td>\n",
       "      <td>No</td>\n",
       "    </tr>\n",
       "    <tr>\n",
       "      <th>4</th>\n",
       "      <td>150005</td>\n",
       "      <td>No</td>\n",
       "    </tr>\n",
       "    <tr>\n",
       "      <th>...</th>\n",
       "      <td>...</td>\n",
       "      <td>...</td>\n",
       "    </tr>\n",
       "    <tr>\n",
       "      <th>49995</th>\n",
       "      <td>199996</td>\n",
       "      <td>No</td>\n",
       "    </tr>\n",
       "    <tr>\n",
       "      <th>49996</th>\n",
       "      <td>199997</td>\n",
       "      <td>Yes</td>\n",
       "    </tr>\n",
       "    <tr>\n",
       "      <th>49997</th>\n",
       "      <td>199998</td>\n",
       "      <td>No</td>\n",
       "    </tr>\n",
       "    <tr>\n",
       "      <th>49998</th>\n",
       "      <td>199999</td>\n",
       "      <td>No</td>\n",
       "    </tr>\n",
       "    <tr>\n",
       "      <th>49999</th>\n",
       "      <td>200000</td>\n",
       "      <td>No</td>\n",
       "    </tr>\n",
       "  </tbody>\n",
       "</table>\n",
       "<p>50000 rows × 2 columns</p>\n",
       "</div>"
      ],
      "text/plain": [
       "           ID PURCHASE\n",
       "0      150001       No\n",
       "1      150002       No\n",
       "2      150003       No\n",
       "3      150004       No\n",
       "4      150005       No\n",
       "...       ...      ...\n",
       "49995  199996       No\n",
       "49996  199997      Yes\n",
       "49997  199998       No\n",
       "49998  199999       No\n",
       "49999  200000       No\n",
       "\n",
       "[50000 rows x 2 columns]"
      ]
     },
     "execution_count": 63,
     "metadata": {},
     "output_type": "execute_result"
    }
   ],
   "source": [
    "submission"
   ]
  },
  {
   "cell_type": "code",
   "execution_count": 64,
   "metadata": {},
   "outputs": [],
   "source": [
    "submission.to_csv('submission.csv',index=False)"
   ]
  },
  {
   "cell_type": "markdown",
   "metadata": {},
   "source": [
    "With this, the submission dataset has been populated."
   ]
  }
 ],
 "metadata": {
  "kernelspec": {
   "display_name": "Python 3",
   "language": "python",
   "name": "python3"
  },
  "language_info": {
   "codemirror_mode": {
    "name": "ipython",
    "version": 3
   },
   "file_extension": ".py",
   "mimetype": "text/x-python",
   "name": "python",
   "nbconvert_exporter": "python",
   "pygments_lexer": "ipython3",
   "version": "3.8.5"
  }
 },
 "nbformat": 4,
 "nbformat_minor": 4
}
